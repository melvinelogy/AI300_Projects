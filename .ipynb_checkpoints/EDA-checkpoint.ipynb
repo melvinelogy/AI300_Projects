{
 "cells": [
  {
   "cell_type": "markdown",
   "id": "a0bd4287",
   "metadata": {},
   "source": [
    "MySQL with Python - AI300 Capstone\n",
    "---"
   ]
  },
  {
   "cell_type": "code",
   "execution_count": 1,
   "id": "2f82d015",
   "metadata": {},
   "outputs": [],
   "source": [
    "import pandas as pd\n",
    "from sqlalchemy import create_engine\n",
    "import plotly.express as px"
   ]
  },
  {
   "cell_type": "code",
   "execution_count": 40,
   "id": "720111ff",
   "metadata": {},
   "outputs": [
    {
     "data": {
      "text/html": [
       "<div>\n",
       "<style scoped>\n",
       "    .dataframe tbody tr th:only-of-type {\n",
       "        vertical-align: middle;\n",
       "    }\n",
       "\n",
       "    .dataframe tbody tr th {\n",
       "        vertical-align: top;\n",
       "    }\n",
       "\n",
       "    .dataframe thead th {\n",
       "        text-align: right;\n",
       "    }\n",
       "</style>\n",
       "<table border=\"1\" class=\"dataframe\">\n",
       "  <thead>\n",
       "    <tr style=\"text-align: right;\">\n",
       "      <th></th>\n",
       "      <th>account_id</th>\n",
       "      <th>customer_id</th>\n",
       "      <th>tenure_months</th>\n",
       "      <th>num_referrals</th>\n",
       "      <th>has_internet_service</th>\n",
       "      <th>internet_type</th>\n",
       "      <th>has_unlimited_data</th>\n",
       "      <th>has_phone_service</th>\n",
       "      <th>has_multiple_lines</th>\n",
       "      <th>has_premium_tech_support</th>\n",
       "      <th>...</th>\n",
       "      <th>age</th>\n",
       "      <th>senior_citizen</th>\n",
       "      <th>married</th>\n",
       "      <th>num_dependents</th>\n",
       "      <th>zip_code</th>\n",
       "      <th>area_id</th>\n",
       "      <th>city</th>\n",
       "      <th>latitutde</th>\n",
       "      <th>longitude</th>\n",
       "      <th>population</th>\n",
       "    </tr>\n",
       "  </thead>\n",
       "  <tbody>\n",
       "    <tr>\n",
       "      <th>0</th>\n",
       "      <td>BFIN-DLMOA</td>\n",
       "      <td>0013-EXCHZ</td>\n",
       "      <td>3</td>\n",
       "      <td>3</td>\n",
       "      <td>Yes</td>\n",
       "      <td>Fiber Optic</td>\n",
       "      <td>Yes</td>\n",
       "      <td>Yes</td>\n",
       "      <td>No</td>\n",
       "      <td>Yes</td>\n",
       "      <td>...</td>\n",
       "      <td>75</td>\n",
       "      <td>Yes</td>\n",
       "      <td>Yes</td>\n",
       "      <td>0</td>\n",
       "      <td>93010</td>\n",
       "      <td>607</td>\n",
       "      <td>Camarillo</td>\n",
       "      <td>34.227846</td>\n",
       "      <td>-119.079903</td>\n",
       "      <td>42853</td>\n",
       "    </tr>\n",
       "    <tr>\n",
       "      <th>1</th>\n",
       "      <td>AFEO-XOOCP</td>\n",
       "      <td>0014-BMAQU</td>\n",
       "      <td>63</td>\n",
       "      <td>8</td>\n",
       "      <td>Yes</td>\n",
       "      <td>Fiber Optic</td>\n",
       "      <td>No</td>\n",
       "      <td>Yes</td>\n",
       "      <td>Yes</td>\n",
       "      <td>Yes</td>\n",
       "      <td>...</td>\n",
       "      <td>52</td>\n",
       "      <td>No</td>\n",
       "      <td>Yes</td>\n",
       "      <td>0</td>\n",
       "      <td>94558</td>\n",
       "      <td>963</td>\n",
       "      <td>Napa</td>\n",
       "      <td>38.489789</td>\n",
       "      <td>-122.270110</td>\n",
       "      <td>63947</td>\n",
       "    </tr>\n",
       "    <tr>\n",
       "      <th>2</th>\n",
       "      <td>DEMQ-MFXWC</td>\n",
       "      <td>0016-QLJIS</td>\n",
       "      <td>65</td>\n",
       "      <td>3</td>\n",
       "      <td>Yes</td>\n",
       "      <td>Cable</td>\n",
       "      <td>Yes</td>\n",
       "      <td>Yes</td>\n",
       "      <td>Yes</td>\n",
       "      <td>Yes</td>\n",
       "      <td>...</td>\n",
       "      <td>43</td>\n",
       "      <td>No</td>\n",
       "      <td>Yes</td>\n",
       "      <td>1</td>\n",
       "      <td>95681</td>\n",
       "      <td>1390</td>\n",
       "      <td>Sheridan</td>\n",
       "      <td>38.984756</td>\n",
       "      <td>-121.345074</td>\n",
       "      <td>1219</td>\n",
       "    </tr>\n",
       "    <tr>\n",
       "      <th>3</th>\n",
       "      <td>AIPP-VTDXJ</td>\n",
       "      <td>0019-EFAEP</td>\n",
       "      <td>72</td>\n",
       "      <td>0</td>\n",
       "      <td>Yes</td>\n",
       "      <td>Fiber Optic</td>\n",
       "      <td>Yes</td>\n",
       "      <td>Yes</td>\n",
       "      <td>Yes</td>\n",
       "      <td>No</td>\n",
       "      <td>...</td>\n",
       "      <td>32</td>\n",
       "      <td>No</td>\n",
       "      <td>No</td>\n",
       "      <td>0</td>\n",
       "      <td>91942</td>\n",
       "      <td>303</td>\n",
       "      <td>La Mesa</td>\n",
       "      <td>32.782501</td>\n",
       "      <td>-117.016110</td>\n",
       "      <td>24005</td>\n",
       "    </tr>\n",
       "    <tr>\n",
       "      <th>4</th>\n",
       "      <td>CJHA-SRKIB</td>\n",
       "      <td>0019-GFNTW</td>\n",
       "      <td>56</td>\n",
       "      <td>0</td>\n",
       "      <td>Yes</td>\n",
       "      <td>DSL</td>\n",
       "      <td>Yes</td>\n",
       "      <td>No</td>\n",
       "      <td>No</td>\n",
       "      <td>Yes</td>\n",
       "      <td>...</td>\n",
       "      <td>39</td>\n",
       "      <td>No</td>\n",
       "      <td>No</td>\n",
       "      <td>0</td>\n",
       "      <td>93441</td>\n",
       "      <td>716</td>\n",
       "      <td>Los Olivos</td>\n",
       "      <td>34.704340</td>\n",
       "      <td>-120.026090</td>\n",
       "      <td>1317</td>\n",
       "    </tr>\n",
       "    <tr>\n",
       "      <th>...</th>\n",
       "      <td>...</td>\n",
       "      <td>...</td>\n",
       "      <td>...</td>\n",
       "      <td>...</td>\n",
       "      <td>...</td>\n",
       "      <td>...</td>\n",
       "      <td>...</td>\n",
       "      <td>...</td>\n",
       "      <td>...</td>\n",
       "      <td>...</td>\n",
       "      <td>...</td>\n",
       "      <td>...</td>\n",
       "      <td>...</td>\n",
       "      <td>...</td>\n",
       "      <td>...</td>\n",
       "      <td>...</td>\n",
       "      <td>...</td>\n",
       "      <td>...</td>\n",
       "      <td>...</td>\n",
       "      <td>...</td>\n",
       "      <td>...</td>\n",
       "    </tr>\n",
       "    <tr>\n",
       "      <th>7038</th>\n",
       "      <td>XFNW-OGLLY</td>\n",
       "      <td>9412-ARGBX</td>\n",
       "      <td>48</td>\n",
       "      <td>0</td>\n",
       "      <td>Yes</td>\n",
       "      <td>Fiber Optic</td>\n",
       "      <td>Yes</td>\n",
       "      <td>Yes</td>\n",
       "      <td>No</td>\n",
       "      <td>Yes</td>\n",
       "      <td>...</td>\n",
       "      <td>47</td>\n",
       "      <td>No</td>\n",
       "      <td>No</td>\n",
       "      <td>0</td>\n",
       "      <td>90241</td>\n",
       "      <td>72</td>\n",
       "      <td>Downey</td>\n",
       "      <td>33.940884</td>\n",
       "      <td>-118.128628</td>\n",
       "      <td>40152</td>\n",
       "    </tr>\n",
       "    <tr>\n",
       "      <th>7039</th>\n",
       "      <td>SVZS-SEWJU</td>\n",
       "      <td>9522-ZSINC</td>\n",
       "      <td>13</td>\n",
       "      <td>0</td>\n",
       "      <td>No</td>\n",
       "      <td>None</td>\n",
       "      <td>No</td>\n",
       "      <td>Yes</td>\n",
       "      <td>No</td>\n",
       "      <td>No</td>\n",
       "      <td>...</td>\n",
       "      <td>34</td>\n",
       "      <td>No</td>\n",
       "      <td>No</td>\n",
       "      <td>0</td>\n",
       "      <td>95409</td>\n",
       "      <td>1226</td>\n",
       "      <td>Santa Rosa</td>\n",
       "      <td>38.468893</td>\n",
       "      <td>-122.580539</td>\n",
       "      <td>25718</td>\n",
       "    </tr>\n",
       "    <tr>\n",
       "      <th>7040</th>\n",
       "      <td>SENC-XOATR</td>\n",
       "      <td>9524-EGPJC</td>\n",
       "      <td>18</td>\n",
       "      <td>0</td>\n",
       "      <td>Yes</td>\n",
       "      <td>Fiber Optic</td>\n",
       "      <td>Yes</td>\n",
       "      <td>Yes</td>\n",
       "      <td>Yes</td>\n",
       "      <td>Yes</td>\n",
       "      <td>...</td>\n",
       "      <td>33</td>\n",
       "      <td>No</td>\n",
       "      <td>No</td>\n",
       "      <td>0</td>\n",
       "      <td>94595</td>\n",
       "      <td>991</td>\n",
       "      <td>Walnut Creek</td>\n",
       "      <td>37.862128</td>\n",
       "      <td>-122.075197</td>\n",
       "      <td>18024</td>\n",
       "    </tr>\n",
       "    <tr>\n",
       "      <th>7041</th>\n",
       "      <td>CYDP-LCTZB</td>\n",
       "      <td>9975-SKRNR</td>\n",
       "      <td>1</td>\n",
       "      <td>0</td>\n",
       "      <td>No</td>\n",
       "      <td>None</td>\n",
       "      <td>No</td>\n",
       "      <td>Yes</td>\n",
       "      <td>No</td>\n",
       "      <td>No</td>\n",
       "      <td>...</td>\n",
       "      <td>24</td>\n",
       "      <td>No</td>\n",
       "      <td>No</td>\n",
       "      <td>0</td>\n",
       "      <td>96126</td>\n",
       "      <td>1611</td>\n",
       "      <td>Sierraville</td>\n",
       "      <td>39.559709</td>\n",
       "      <td>-120.345639</td>\n",
       "      <td>227</td>\n",
       "    </tr>\n",
       "    <tr>\n",
       "      <th>7042</th>\n",
       "      <td>PCTD-RXANG</td>\n",
       "      <td>9992-UJOEL</td>\n",
       "      <td>2</td>\n",
       "      <td>0</td>\n",
       "      <td>Yes</td>\n",
       "      <td>DSL</td>\n",
       "      <td>Yes</td>\n",
       "      <td>Yes</td>\n",
       "      <td>No</td>\n",
       "      <td>No</td>\n",
       "      <td>...</td>\n",
       "      <td>22</td>\n",
       "      <td>No</td>\n",
       "      <td>No</td>\n",
       "      <td>0</td>\n",
       "      <td>95432</td>\n",
       "      <td>1242</td>\n",
       "      <td>Elk</td>\n",
       "      <td>39.108252</td>\n",
       "      <td>-123.645121</td>\n",
       "      <td>383</td>\n",
       "    </tr>\n",
       "  </tbody>\n",
       "</table>\n",
       "<p>7043 rows × 40 columns</p>\n",
       "</div>"
      ],
      "text/plain": [
       "      account_id customer_id  tenure_months  num_referrals  \\\n",
       "0     BFIN-DLMOA  0013-EXCHZ              3              3   \n",
       "1     AFEO-XOOCP  0014-BMAQU             63              8   \n",
       "2     DEMQ-MFXWC  0016-QLJIS             65              3   \n",
       "3     AIPP-VTDXJ  0019-EFAEP             72              0   \n",
       "4     CJHA-SRKIB  0019-GFNTW             56              0   \n",
       "...          ...         ...            ...            ...   \n",
       "7038  XFNW-OGLLY  9412-ARGBX             48              0   \n",
       "7039  SVZS-SEWJU  9522-ZSINC             13              0   \n",
       "7040  SENC-XOATR  9524-EGPJC             18              0   \n",
       "7041  CYDP-LCTZB  9975-SKRNR              1              0   \n",
       "7042  PCTD-RXANG  9992-UJOEL              2              0   \n",
       "\n",
       "     has_internet_service internet_type has_unlimited_data has_phone_service  \\\n",
       "0                     Yes   Fiber Optic                Yes               Yes   \n",
       "1                     Yes   Fiber Optic                 No               Yes   \n",
       "2                     Yes         Cable                Yes               Yes   \n",
       "3                     Yes   Fiber Optic                Yes               Yes   \n",
       "4                     Yes           DSL                Yes                No   \n",
       "...                   ...           ...                ...               ...   \n",
       "7038                  Yes   Fiber Optic                Yes               Yes   \n",
       "7039                   No          None                 No               Yes   \n",
       "7040                  Yes   Fiber Optic                Yes               Yes   \n",
       "7041                   No          None                 No               Yes   \n",
       "7042                  Yes           DSL                Yes               Yes   \n",
       "\n",
       "     has_multiple_lines has_premium_tech_support  ... age senior_citizen  \\\n",
       "0                    No                      Yes  ...  75            Yes   \n",
       "1                   Yes                      Yes  ...  52             No   \n",
       "2                   Yes                      Yes  ...  43             No   \n",
       "3                   Yes                       No  ...  32             No   \n",
       "4                    No                      Yes  ...  39             No   \n",
       "...                 ...                      ...  ...  ..            ...   \n",
       "7038                 No                      Yes  ...  47             No   \n",
       "7039                 No                       No  ...  34             No   \n",
       "7040                Yes                      Yes  ...  33             No   \n",
       "7041                 No                       No  ...  24             No   \n",
       "7042                 No                       No  ...  22             No   \n",
       "\n",
       "     married num_dependents zip_code area_id          city  latitutde  \\\n",
       "0        Yes              0    93010     607     Camarillo  34.227846   \n",
       "1        Yes              0    94558     963          Napa  38.489789   \n",
       "2        Yes              1    95681    1390      Sheridan  38.984756   \n",
       "3         No              0    91942     303       La Mesa  32.782501   \n",
       "4         No              0    93441     716    Los Olivos  34.704340   \n",
       "...      ...            ...      ...     ...           ...        ...   \n",
       "7038      No              0    90241      72        Downey  33.940884   \n",
       "7039      No              0    95409    1226    Santa Rosa  38.468893   \n",
       "7040      No              0    94595     991  Walnut Creek  37.862128   \n",
       "7041      No              0    96126    1611   Sierraville  39.559709   \n",
       "7042      No              0    95432    1242           Elk  39.108252   \n",
       "\n",
       "       longitude population  \n",
       "0    -119.079903      42853  \n",
       "1    -122.270110      63947  \n",
       "2    -121.345074       1219  \n",
       "3    -117.016110      24005  \n",
       "4    -120.026090       1317  \n",
       "...          ...        ...  \n",
       "7038 -118.128628      40152  \n",
       "7039 -122.580539      25718  \n",
       "7040 -122.075197      18024  \n",
       "7041 -120.345639        227  \n",
       "7042 -123.645121        383  \n",
       "\n",
       "[7043 rows x 40 columns]"
      ]
     },
     "execution_count": 40,
     "metadata": {},
     "output_type": "execute_result"
    }
   ],
   "source": [
    "ENDPOINT = 'heicoders-playground.c2ced10ceyki.ap-southeast-1.rds.amazonaws.com'\n",
    "PORT = 3306\n",
    "USERNAME = 'student300'\n",
    "PASSWORD = 'heicoders_AI300'\n",
    "DBNAME = 'ai300_capstone'\n",
    "\n",
    "# check_query = \"\"\"\n",
    "#     SELECT * FROM customer; \n",
    "# \"\"\"\n",
    "# # Check the unqiue value for account, account_usage, customer and churn_status\n",
    "# df_aq = pd.read_sql(check_query, database_conn)\n",
    "\n",
    "# has_duplicates = df_aq['customer_id'].duplicated().any() # customer_id or account_id for the respective tables\n",
    "\n",
    "# is_unique = not has_duplicates\n",
    "\n",
    "# print(\"Are the values unique?\", is_unique)\n",
    "# df_aq\n",
    "\n",
    "query = \"\"\"\n",
    "SELECT *\n",
    "FROM \n",
    "    account ac\n",
    "INNER JOIN \n",
    "    account_usage au \n",
    "ON \t\n",
    "    ac.account_id = au.account_id\n",
    "INNER JOIN\n",
    "    churn_status cs\n",
    "ON\n",
    "    ac.customer_id = cs.customer_id\n",
    "INNER JOIN\n",
    "    customer cu\n",
    "ON\n",
    "    ac.customer_id = cu.customer_id\n",
    "LEFT JOIN\n",
    "    city ct\n",
    "ON\n",
    "    cu.zip_code = ct.zip_code;\n",
    "\"\"\"\n",
    "\n",
    "database_conn = create_engine(f'mysql+pymysql://{USERNAME}:{PASSWORD}@{ENDPOINT}/{DBNAME}')\n",
    "df = pd.read_sql(query, database_conn)\n",
    "df = df.loc[:, ~df.columns.duplicated()]\n",
    "df"
   ]
  },
  {
   "cell_type": "code",
   "execution_count": 41,
   "id": "c84cf0a7",
   "metadata": {},
   "outputs": [
    {
     "name": "stdout",
     "output_type": "stream",
     "text": [
      "<class 'pandas.core.frame.DataFrame'>\n",
      "RangeIndex: 7043 entries, 0 to 7042\n",
      "Data columns (total 40 columns):\n",
      " #   Column                         Non-Null Count  Dtype  \n",
      "---  ------                         --------------  -----  \n",
      " 0   account_id                     7043 non-null   object \n",
      " 1   customer_id                    7043 non-null   object \n",
      " 2   tenure_months                  7043 non-null   int64  \n",
      " 3   num_referrals                  7043 non-null   int64  \n",
      " 4   has_internet_service           7043 non-null   object \n",
      " 5   internet_type                  7043 non-null   object \n",
      " 6   has_unlimited_data             7043 non-null   object \n",
      " 7   has_phone_service              7043 non-null   object \n",
      " 8   has_multiple_lines             7043 non-null   object \n",
      " 9   has_premium_tech_support       7043 non-null   object \n",
      " 10  has_online_security            7043 non-null   object \n",
      " 11  has_online_backup              7043 non-null   object \n",
      " 12  has_device_protection          7043 non-null   object \n",
      " 13  contract_type                  7043 non-null   object \n",
      " 14  paperless_billing              7043 non-null   object \n",
      " 15  payment_method                 7043 non-null   object \n",
      " 16  avg_long_distance_fee_monthly  7043 non-null   float64\n",
      " 17  total_long_distance_fee        7043 non-null   float64\n",
      " 18  avg_gb_download_monthly        7043 non-null   int64  \n",
      " 19  stream_tv                      7043 non-null   object \n",
      " 20  stream_movie                   7043 non-null   object \n",
      " 21  stream_music                   7043 non-null   object \n",
      " 22  total_monthly_fee              7043 non-null   float64\n",
      " 23  total_charges_quarter          7043 non-null   float64\n",
      " 24  total_refunds                  7043 non-null   float64\n",
      " 25  status                         7043 non-null   object \n",
      " 26  churn_label                    7043 non-null   object \n",
      " 27  churn_category                 7043 non-null   object \n",
      " 28  churn_reason                   7043 non-null   object \n",
      " 29  gender                         7043 non-null   object \n",
      " 30  age                            7043 non-null   int64  \n",
      " 31  senior_citizen                 7043 non-null   object \n",
      " 32  married                        7043 non-null   object \n",
      " 33  num_dependents                 7043 non-null   int64  \n",
      " 34  zip_code                       7043 non-null   int64  \n",
      " 35  area_id                        7043 non-null   int64  \n",
      " 36  city                           7043 non-null   object \n",
      " 37  latitutde                      7043 non-null   float64\n",
      " 38  longitude                      7043 non-null   float64\n",
      " 39  population                     7043 non-null   int64  \n",
      "dtypes: float64(7), int64(8), object(25)\n",
      "memory usage: 2.1+ MB\n"
     ]
    }
   ],
   "source": [
    "df.info()"
   ]
  },
  {
   "cell_type": "code",
   "execution_count": 42,
   "id": "fc826713",
   "metadata": {},
   "outputs": [
    {
     "data": {
      "text/html": [
       "<div>\n",
       "<style scoped>\n",
       "    .dataframe tbody tr th:only-of-type {\n",
       "        vertical-align: middle;\n",
       "    }\n",
       "\n",
       "    .dataframe tbody tr th {\n",
       "        vertical-align: top;\n",
       "    }\n",
       "\n",
       "    .dataframe thead th {\n",
       "        text-align: right;\n",
       "    }\n",
       "</style>\n",
       "<table border=\"1\" class=\"dataframe\">\n",
       "  <thead>\n",
       "    <tr style=\"text-align: right;\">\n",
       "      <th></th>\n",
       "      <th>tenure_months</th>\n",
       "      <th>num_referrals</th>\n",
       "      <th>avg_long_distance_fee_monthly</th>\n",
       "      <th>total_long_distance_fee</th>\n",
       "      <th>avg_gb_download_monthly</th>\n",
       "      <th>total_monthly_fee</th>\n",
       "      <th>total_charges_quarter</th>\n",
       "      <th>total_refunds</th>\n",
       "      <th>age</th>\n",
       "      <th>num_dependents</th>\n",
       "      <th>zip_code</th>\n",
       "      <th>area_id</th>\n",
       "      <th>latitutde</th>\n",
       "      <th>longitude</th>\n",
       "      <th>population</th>\n",
       "    </tr>\n",
       "  </thead>\n",
       "  <tbody>\n",
       "    <tr>\n",
       "      <th>count</th>\n",
       "      <td>7043.000000</td>\n",
       "      <td>7043.000000</td>\n",
       "      <td>7043.000000</td>\n",
       "      <td>7043.000000</td>\n",
       "      <td>7043.000000</td>\n",
       "      <td>7043.000000</td>\n",
       "      <td>7043.000000</td>\n",
       "      <td>7043.000000</td>\n",
       "      <td>7043.000000</td>\n",
       "      <td>7043.000000</td>\n",
       "      <td>7043.000000</td>\n",
       "      <td>7043.000000</td>\n",
       "      <td>7043.000000</td>\n",
       "      <td>7043.000000</td>\n",
       "      <td>7043.000000</td>\n",
       "    </tr>\n",
       "    <tr>\n",
       "      <th>mean</th>\n",
       "      <td>32.386767</td>\n",
       "      <td>1.951867</td>\n",
       "      <td>22.958954</td>\n",
       "      <td>749.099262</td>\n",
       "      <td>20.515405</td>\n",
       "      <td>64.761692</td>\n",
       "      <td>2280.381264</td>\n",
       "      <td>1.962182</td>\n",
       "      <td>46.509726</td>\n",
       "      <td>0.468692</td>\n",
       "      <td>93486.070567</td>\n",
       "      <td>767.045577</td>\n",
       "      <td>36.197455</td>\n",
       "      <td>-119.756684</td>\n",
       "      <td>22139.603294</td>\n",
       "    </tr>\n",
       "    <tr>\n",
       "      <th>std</th>\n",
       "      <td>24.542061</td>\n",
       "      <td>3.001199</td>\n",
       "      <td>15.448113</td>\n",
       "      <td>846.660055</td>\n",
       "      <td>20.418940</td>\n",
       "      <td>30.090047</td>\n",
       "      <td>2266.220462</td>\n",
       "      <td>7.902614</td>\n",
       "      <td>16.750352</td>\n",
       "      <td>0.962802</td>\n",
       "      <td>1856.767505</td>\n",
       "      <td>475.486842</td>\n",
       "      <td>2.468929</td>\n",
       "      <td>2.154425</td>\n",
       "      <td>21152.392837</td>\n",
       "    </tr>\n",
       "    <tr>\n",
       "      <th>min</th>\n",
       "      <td>1.000000</td>\n",
       "      <td>0.000000</td>\n",
       "      <td>0.000000</td>\n",
       "      <td>0.000000</td>\n",
       "      <td>0.000000</td>\n",
       "      <td>18.250000</td>\n",
       "      <td>18.800000</td>\n",
       "      <td>0.000000</td>\n",
       "      <td>19.000000</td>\n",
       "      <td>0.000000</td>\n",
       "      <td>90001.000000</td>\n",
       "      <td>1.000000</td>\n",
       "      <td>32.555828</td>\n",
       "      <td>-124.301372</td>\n",
       "      <td>11.000000</td>\n",
       "    </tr>\n",
       "    <tr>\n",
       "      <th>25%</th>\n",
       "      <td>9.000000</td>\n",
       "      <td>0.000000</td>\n",
       "      <td>9.210000</td>\n",
       "      <td>70.545000</td>\n",
       "      <td>3.000000</td>\n",
       "      <td>35.500000</td>\n",
       "      <td>400.150000</td>\n",
       "      <td>0.000000</td>\n",
       "      <td>32.000000</td>\n",
       "      <td>0.000000</td>\n",
       "      <td>92101.000000</td>\n",
       "      <td>350.000000</td>\n",
       "      <td>33.990646</td>\n",
       "      <td>-121.788090</td>\n",
       "      <td>2344.000000</td>\n",
       "    </tr>\n",
       "    <tr>\n",
       "      <th>50%</th>\n",
       "      <td>29.000000</td>\n",
       "      <td>0.000000</td>\n",
       "      <td>22.890000</td>\n",
       "      <td>401.440000</td>\n",
       "      <td>17.000000</td>\n",
       "      <td>70.350000</td>\n",
       "      <td>1394.550000</td>\n",
       "      <td>0.000000</td>\n",
       "      <td>46.000000</td>\n",
       "      <td>0.000000</td>\n",
       "      <td>93518.000000</td>\n",
       "      <td>741.000000</td>\n",
       "      <td>36.205465</td>\n",
       "      <td>-119.595293</td>\n",
       "      <td>17554.000000</td>\n",
       "    </tr>\n",
       "    <tr>\n",
       "      <th>75%</th>\n",
       "      <td>55.000000</td>\n",
       "      <td>3.000000</td>\n",
       "      <td>36.395000</td>\n",
       "      <td>1191.100000</td>\n",
       "      <td>27.000000</td>\n",
       "      <td>89.850000</td>\n",
       "      <td>3786.600000</td>\n",
       "      <td>0.000000</td>\n",
       "      <td>60.000000</td>\n",
       "      <td>0.000000</td>\n",
       "      <td>95329.000000</td>\n",
       "      <td>1182.000000</td>\n",
       "      <td>38.161321</td>\n",
       "      <td>-117.969795</td>\n",
       "      <td>36125.000000</td>\n",
       "    </tr>\n",
       "    <tr>\n",
       "      <th>max</th>\n",
       "      <td>72.000000</td>\n",
       "      <td>11.000000</td>\n",
       "      <td>49.990000</td>\n",
       "      <td>3564.720000</td>\n",
       "      <td>85.000000</td>\n",
       "      <td>118.750000</td>\n",
       "      <td>8684.800000</td>\n",
       "      <td>49.790000</td>\n",
       "      <td>80.000000</td>\n",
       "      <td>9.000000</td>\n",
       "      <td>96150.000000</td>\n",
       "      <td>1626.000000</td>\n",
       "      <td>41.962127</td>\n",
       "      <td>-114.192901</td>\n",
       "      <td>105285.000000</td>\n",
       "    </tr>\n",
       "  </tbody>\n",
       "</table>\n",
       "</div>"
      ],
      "text/plain": [
       "       tenure_months  num_referrals  avg_long_distance_fee_monthly  \\\n",
       "count    7043.000000    7043.000000                    7043.000000   \n",
       "mean       32.386767       1.951867                      22.958954   \n",
       "std        24.542061       3.001199                      15.448113   \n",
       "min         1.000000       0.000000                       0.000000   \n",
       "25%         9.000000       0.000000                       9.210000   \n",
       "50%        29.000000       0.000000                      22.890000   \n",
       "75%        55.000000       3.000000                      36.395000   \n",
       "max        72.000000      11.000000                      49.990000   \n",
       "\n",
       "       total_long_distance_fee  avg_gb_download_monthly  total_monthly_fee  \\\n",
       "count              7043.000000              7043.000000        7043.000000   \n",
       "mean                749.099262                20.515405          64.761692   \n",
       "std                 846.660055                20.418940          30.090047   \n",
       "min                   0.000000                 0.000000          18.250000   \n",
       "25%                  70.545000                 3.000000          35.500000   \n",
       "50%                 401.440000                17.000000          70.350000   \n",
       "75%                1191.100000                27.000000          89.850000   \n",
       "max                3564.720000                85.000000         118.750000   \n",
       "\n",
       "       total_charges_quarter  total_refunds          age  num_dependents  \\\n",
       "count            7043.000000    7043.000000  7043.000000     7043.000000   \n",
       "mean             2280.381264       1.962182    46.509726        0.468692   \n",
       "std              2266.220462       7.902614    16.750352        0.962802   \n",
       "min                18.800000       0.000000    19.000000        0.000000   \n",
       "25%               400.150000       0.000000    32.000000        0.000000   \n",
       "50%              1394.550000       0.000000    46.000000        0.000000   \n",
       "75%              3786.600000       0.000000    60.000000        0.000000   \n",
       "max              8684.800000      49.790000    80.000000        9.000000   \n",
       "\n",
       "           zip_code      area_id    latitutde    longitude     population  \n",
       "count   7043.000000  7043.000000  7043.000000  7043.000000    7043.000000  \n",
       "mean   93486.070567   767.045577    36.197455  -119.756684   22139.603294  \n",
       "std     1856.767505   475.486842     2.468929     2.154425   21152.392837  \n",
       "min    90001.000000     1.000000    32.555828  -124.301372      11.000000  \n",
       "25%    92101.000000   350.000000    33.990646  -121.788090    2344.000000  \n",
       "50%    93518.000000   741.000000    36.205465  -119.595293   17554.000000  \n",
       "75%    95329.000000  1182.000000    38.161321  -117.969795   36125.000000  \n",
       "max    96150.000000  1626.000000    41.962127  -114.192901  105285.000000  "
      ]
     },
     "execution_count": 42,
     "metadata": {},
     "output_type": "execute_result"
    }
   ],
   "source": [
    "df.describe()"
   ]
  },
  {
   "cell_type": "code",
   "execution_count": 43,
   "id": "00daf04e",
   "metadata": {},
   "outputs": [],
   "source": [
    "# Drop columns\n",
    "df.drop(columns=['population', 'latitutde', 'longitude', 'area_id', 'internet_type','married', 'gender', 'has_internet_service', 'has_phone_service', 'payment_method'], inplace=True)"
   ]
  },
  {
   "cell_type": "code",
   "execution_count": 47,
   "id": "05a0ffb9",
   "metadata": {},
   "outputs": [
    {
     "name": "stdout",
     "output_type": "stream",
     "text": [
      "<class 'pandas.core.frame.DataFrame'>\n",
      "RangeIndex: 7043 entries, 0 to 7042\n",
      "Data columns (total 30 columns):\n",
      " #   Column                         Non-Null Count  Dtype  \n",
      "---  ------                         --------------  -----  \n",
      " 0   account_id                     7043 non-null   object \n",
      " 1   customer_id                    7043 non-null   object \n",
      " 2   tenure_months                  7043 non-null   int64  \n",
      " 3   num_referrals                  7043 non-null   int64  \n",
      " 4   has_unlimited_data             7043 non-null   object \n",
      " 5   has_multiple_lines             7043 non-null   object \n",
      " 6   has_premium_tech_support       7043 non-null   object \n",
      " 7   has_online_security            7043 non-null   object \n",
      " 8   has_online_backup              7043 non-null   object \n",
      " 9   has_device_protection          7043 non-null   object \n",
      " 10  contract_type                  7043 non-null   object \n",
      " 11  paperless_billing              7043 non-null   object \n",
      " 12  avg_long_distance_fee_monthly  7043 non-null   float64\n",
      " 13  total_long_distance_fee        7043 non-null   float64\n",
      " 14  avg_gb_download_monthly        7043 non-null   int64  \n",
      " 15  stream_tv                      7043 non-null   object \n",
      " 16  stream_movie                   7043 non-null   object \n",
      " 17  stream_music                   7043 non-null   object \n",
      " 18  total_monthly_fee              7043 non-null   float64\n",
      " 19  total_charges_quarter          7043 non-null   float64\n",
      " 20  total_refunds                  7043 non-null   float64\n",
      " 21  status                         7043 non-null   object \n",
      " 22  churn_label                    7043 non-null   object \n",
      " 23  churn_category                 7043 non-null   object \n",
      " 24  churn_reason                   7043 non-null   object \n",
      " 25  age                            7043 non-null   int64  \n",
      " 26  senior_citizen                 7043 non-null   object \n",
      " 27  num_dependents                 7043 non-null   int64  \n",
      " 28  zip_code                       7043 non-null   int64  \n",
      " 29  city                           7043 non-null   object \n",
      "dtypes: float64(5), int64(6), object(19)\n",
      "memory usage: 1.6+ MB\n"
     ]
    }
   ],
   "source": [
    "df.info()"
   ]
  },
  {
   "cell_type": "code",
   "execution_count": 25,
   "id": "60d37d7b",
   "metadata": {},
   "outputs": [
    {
     "data": {
      "text/html": [
       "<div>\n",
       "<style scoped>\n",
       "    .dataframe tbody tr th:only-of-type {\n",
       "        vertical-align: middle;\n",
       "    }\n",
       "\n",
       "    .dataframe tbody tr th {\n",
       "        vertical-align: top;\n",
       "    }\n",
       "\n",
       "    .dataframe thead th {\n",
       "        text-align: right;\n",
       "    }\n",
       "</style>\n",
       "<table border=\"1\" class=\"dataframe\">\n",
       "  <thead>\n",
       "    <tr style=\"text-align: right;\">\n",
       "      <th></th>\n",
       "      <th>account_id</th>\n",
       "      <th>customer_id</th>\n",
       "      <th>tenure_months</th>\n",
       "      <th>num_referrals</th>\n",
       "      <th>has_internet_service</th>\n",
       "      <th>internet_type</th>\n",
       "      <th>has_unlimited_data</th>\n",
       "      <th>has_phone_service</th>\n",
       "      <th>has_multiple_lines</th>\n",
       "      <th>has_premium_tech_support</th>\n",
       "      <th>...</th>\n",
       "      <th>churn_label</th>\n",
       "      <th>churn_category</th>\n",
       "      <th>churn_reason</th>\n",
       "      <th>gender</th>\n",
       "      <th>age</th>\n",
       "      <th>senior_citizen</th>\n",
       "      <th>married</th>\n",
       "      <th>num_dependents</th>\n",
       "      <th>zip_code</th>\n",
       "      <th>city</th>\n",
       "    </tr>\n",
       "  </thead>\n",
       "  <tbody>\n",
       "    <tr>\n",
       "      <th>0</th>\n",
       "      <td>BFIN-DLMOA</td>\n",
       "      <td>0013-EXCHZ</td>\n",
       "      <td>3</td>\n",
       "      <td>3</td>\n",
       "      <td>1</td>\n",
       "      <td>Fiber Optic</td>\n",
       "      <td>1</td>\n",
       "      <td>1</td>\n",
       "      <td>0</td>\n",
       "      <td>1</td>\n",
       "      <td>...</td>\n",
       "      <td>1</td>\n",
       "      <td>Dissatisfaction</td>\n",
       "      <td>Network reliability</td>\n",
       "      <td>Female</td>\n",
       "      <td>75</td>\n",
       "      <td>1</td>\n",
       "      <td>1</td>\n",
       "      <td>0</td>\n",
       "      <td>93010</td>\n",
       "      <td>Camarillo</td>\n",
       "    </tr>\n",
       "    <tr>\n",
       "      <th>1</th>\n",
       "      <td>AFEO-XOOCP</td>\n",
       "      <td>0014-BMAQU</td>\n",
       "      <td>63</td>\n",
       "      <td>8</td>\n",
       "      <td>1</td>\n",
       "      <td>Fiber Optic</td>\n",
       "      <td>0</td>\n",
       "      <td>1</td>\n",
       "      <td>1</td>\n",
       "      <td>1</td>\n",
       "      <td>...</td>\n",
       "      <td>0</td>\n",
       "      <td></td>\n",
       "      <td></td>\n",
       "      <td>Male</td>\n",
       "      <td>52</td>\n",
       "      <td>0</td>\n",
       "      <td>1</td>\n",
       "      <td>0</td>\n",
       "      <td>94558</td>\n",
       "      <td>Napa</td>\n",
       "    </tr>\n",
       "    <tr>\n",
       "      <th>2</th>\n",
       "      <td>DEMQ-MFXWC</td>\n",
       "      <td>0016-QLJIS</td>\n",
       "      <td>65</td>\n",
       "      <td>3</td>\n",
       "      <td>1</td>\n",
       "      <td>Cable</td>\n",
       "      <td>1</td>\n",
       "      <td>1</td>\n",
       "      <td>1</td>\n",
       "      <td>1</td>\n",
       "      <td>...</td>\n",
       "      <td>0</td>\n",
       "      <td></td>\n",
       "      <td></td>\n",
       "      <td>Female</td>\n",
       "      <td>43</td>\n",
       "      <td>0</td>\n",
       "      <td>1</td>\n",
       "      <td>1</td>\n",
       "      <td>95681</td>\n",
       "      <td>Sheridan</td>\n",
       "    </tr>\n",
       "    <tr>\n",
       "      <th>3</th>\n",
       "      <td>AIPP-VTDXJ</td>\n",
       "      <td>0019-EFAEP</td>\n",
       "      <td>72</td>\n",
       "      <td>0</td>\n",
       "      <td>1</td>\n",
       "      <td>Fiber Optic</td>\n",
       "      <td>1</td>\n",
       "      <td>1</td>\n",
       "      <td>1</td>\n",
       "      <td>0</td>\n",
       "      <td>...</td>\n",
       "      <td>0</td>\n",
       "      <td></td>\n",
       "      <td></td>\n",
       "      <td>Female</td>\n",
       "      <td>32</td>\n",
       "      <td>0</td>\n",
       "      <td>0</td>\n",
       "      <td>0</td>\n",
       "      <td>91942</td>\n",
       "      <td>La Mesa</td>\n",
       "    </tr>\n",
       "    <tr>\n",
       "      <th>4</th>\n",
       "      <td>CJHA-SRKIB</td>\n",
       "      <td>0019-GFNTW</td>\n",
       "      <td>56</td>\n",
       "      <td>0</td>\n",
       "      <td>1</td>\n",
       "      <td>DSL</td>\n",
       "      <td>1</td>\n",
       "      <td>0</td>\n",
       "      <td>0</td>\n",
       "      <td>1</td>\n",
       "      <td>...</td>\n",
       "      <td>0</td>\n",
       "      <td></td>\n",
       "      <td></td>\n",
       "      <td>Female</td>\n",
       "      <td>39</td>\n",
       "      <td>0</td>\n",
       "      <td>0</td>\n",
       "      <td>0</td>\n",
       "      <td>93441</td>\n",
       "      <td>Los Olivos</td>\n",
       "    </tr>\n",
       "    <tr>\n",
       "      <th>...</th>\n",
       "      <td>...</td>\n",
       "      <td>...</td>\n",
       "      <td>...</td>\n",
       "      <td>...</td>\n",
       "      <td>...</td>\n",
       "      <td>...</td>\n",
       "      <td>...</td>\n",
       "      <td>...</td>\n",
       "      <td>...</td>\n",
       "      <td>...</td>\n",
       "      <td>...</td>\n",
       "      <td>...</td>\n",
       "      <td>...</td>\n",
       "      <td>...</td>\n",
       "      <td>...</td>\n",
       "      <td>...</td>\n",
       "      <td>...</td>\n",
       "      <td>...</td>\n",
       "      <td>...</td>\n",
       "      <td>...</td>\n",
       "      <td>...</td>\n",
       "    </tr>\n",
       "    <tr>\n",
       "      <th>7038</th>\n",
       "      <td>XFNW-OGLLY</td>\n",
       "      <td>9412-ARGBX</td>\n",
       "      <td>48</td>\n",
       "      <td>0</td>\n",
       "      <td>1</td>\n",
       "      <td>Fiber Optic</td>\n",
       "      <td>1</td>\n",
       "      <td>1</td>\n",
       "      <td>0</td>\n",
       "      <td>1</td>\n",
       "      <td>...</td>\n",
       "      <td>1</td>\n",
       "      <td>Competitor</td>\n",
       "      <td>Competitor made better offer</td>\n",
       "      <td>Female</td>\n",
       "      <td>47</td>\n",
       "      <td>0</td>\n",
       "      <td>0</td>\n",
       "      <td>0</td>\n",
       "      <td>90241</td>\n",
       "      <td>Downey</td>\n",
       "    </tr>\n",
       "    <tr>\n",
       "      <th>7039</th>\n",
       "      <td>SVZS-SEWJU</td>\n",
       "      <td>9522-ZSINC</td>\n",
       "      <td>13</td>\n",
       "      <td>0</td>\n",
       "      <td>0</td>\n",
       "      <td>None</td>\n",
       "      <td>0</td>\n",
       "      <td>1</td>\n",
       "      <td>0</td>\n",
       "      <td>0</td>\n",
       "      <td>...</td>\n",
       "      <td>0</td>\n",
       "      <td></td>\n",
       "      <td></td>\n",
       "      <td>Male</td>\n",
       "      <td>34</td>\n",
       "      <td>0</td>\n",
       "      <td>0</td>\n",
       "      <td>0</td>\n",
       "      <td>95409</td>\n",
       "      <td>Santa Rosa</td>\n",
       "    </tr>\n",
       "    <tr>\n",
       "      <th>7040</th>\n",
       "      <td>SENC-XOATR</td>\n",
       "      <td>9524-EGPJC</td>\n",
       "      <td>18</td>\n",
       "      <td>0</td>\n",
       "      <td>1</td>\n",
       "      <td>Fiber Optic</td>\n",
       "      <td>1</td>\n",
       "      <td>1</td>\n",
       "      <td>1</td>\n",
       "      <td>1</td>\n",
       "      <td>...</td>\n",
       "      <td>1</td>\n",
       "      <td>Competitor</td>\n",
       "      <td>Competitor offered higher download speeds</td>\n",
       "      <td>Female</td>\n",
       "      <td>33</td>\n",
       "      <td>0</td>\n",
       "      <td>0</td>\n",
       "      <td>0</td>\n",
       "      <td>94595</td>\n",
       "      <td>Walnut Creek</td>\n",
       "    </tr>\n",
       "    <tr>\n",
       "      <th>7041</th>\n",
       "      <td>CYDP-LCTZB</td>\n",
       "      <td>9975-SKRNR</td>\n",
       "      <td>1</td>\n",
       "      <td>0</td>\n",
       "      <td>0</td>\n",
       "      <td>None</td>\n",
       "      <td>0</td>\n",
       "      <td>1</td>\n",
       "      <td>0</td>\n",
       "      <td>0</td>\n",
       "      <td>...</td>\n",
       "      <td>0</td>\n",
       "      <td></td>\n",
       "      <td></td>\n",
       "      <td>Male</td>\n",
       "      <td>24</td>\n",
       "      <td>0</td>\n",
       "      <td>0</td>\n",
       "      <td>0</td>\n",
       "      <td>96126</td>\n",
       "      <td>Sierraville</td>\n",
       "    </tr>\n",
       "    <tr>\n",
       "      <th>7042</th>\n",
       "      <td>PCTD-RXANG</td>\n",
       "      <td>9992-UJOEL</td>\n",
       "      <td>2</td>\n",
       "      <td>0</td>\n",
       "      <td>1</td>\n",
       "      <td>DSL</td>\n",
       "      <td>1</td>\n",
       "      <td>1</td>\n",
       "      <td>0</td>\n",
       "      <td>0</td>\n",
       "      <td>...</td>\n",
       "      <td>0</td>\n",
       "      <td></td>\n",
       "      <td></td>\n",
       "      <td>Male</td>\n",
       "      <td>22</td>\n",
       "      <td>0</td>\n",
       "      <td>0</td>\n",
       "      <td>0</td>\n",
       "      <td>95432</td>\n",
       "      <td>Elk</td>\n",
       "    </tr>\n",
       "  </tbody>\n",
       "</table>\n",
       "<p>7043 rows × 36 columns</p>\n",
       "</div>"
      ],
      "text/plain": [
       "      account_id customer_id  tenure_months  num_referrals  \\\n",
       "0     BFIN-DLMOA  0013-EXCHZ              3              3   \n",
       "1     AFEO-XOOCP  0014-BMAQU             63              8   \n",
       "2     DEMQ-MFXWC  0016-QLJIS             65              3   \n",
       "3     AIPP-VTDXJ  0019-EFAEP             72              0   \n",
       "4     CJHA-SRKIB  0019-GFNTW             56              0   \n",
       "...          ...         ...            ...            ...   \n",
       "7038  XFNW-OGLLY  9412-ARGBX             48              0   \n",
       "7039  SVZS-SEWJU  9522-ZSINC             13              0   \n",
       "7040  SENC-XOATR  9524-EGPJC             18              0   \n",
       "7041  CYDP-LCTZB  9975-SKRNR              1              0   \n",
       "7042  PCTD-RXANG  9992-UJOEL              2              0   \n",
       "\n",
       "      has_internet_service internet_type  has_unlimited_data  \\\n",
       "0                        1   Fiber Optic                   1   \n",
       "1                        1   Fiber Optic                   0   \n",
       "2                        1         Cable                   1   \n",
       "3                        1   Fiber Optic                   1   \n",
       "4                        1           DSL                   1   \n",
       "...                    ...           ...                 ...   \n",
       "7038                     1   Fiber Optic                   1   \n",
       "7039                     0          None                   0   \n",
       "7040                     1   Fiber Optic                   1   \n",
       "7041                     0          None                   0   \n",
       "7042                     1           DSL                   1   \n",
       "\n",
       "      has_phone_service  has_multiple_lines  has_premium_tech_support  ...  \\\n",
       "0                     1                   0                         1  ...   \n",
       "1                     1                   1                         1  ...   \n",
       "2                     1                   1                         1  ...   \n",
       "3                     1                   1                         0  ...   \n",
       "4                     0                   0                         1  ...   \n",
       "...                 ...                 ...                       ...  ...   \n",
       "7038                  1                   0                         1  ...   \n",
       "7039                  1                   0                         0  ...   \n",
       "7040                  1                   1                         1  ...   \n",
       "7041                  1                   0                         0  ...   \n",
       "7042                  1                   0                         0  ...   \n",
       "\n",
       "      churn_label   churn_category                               churn_reason  \\\n",
       "0               1  Dissatisfaction                        Network reliability   \n",
       "1               0                                                               \n",
       "2               0                                                               \n",
       "3               0                                                               \n",
       "4               0                                                               \n",
       "...           ...              ...                                        ...   \n",
       "7038            1       Competitor               Competitor made better offer   \n",
       "7039            0                                                               \n",
       "7040            1       Competitor  Competitor offered higher download speeds   \n",
       "7041            0                                                               \n",
       "7042            0                                                               \n",
       "\n",
       "      gender  age senior_citizen  married  num_dependents  zip_code  \\\n",
       "0     Female   75              1        1               0     93010   \n",
       "1       Male   52              0        1               0     94558   \n",
       "2     Female   43              0        1               1     95681   \n",
       "3     Female   32              0        0               0     91942   \n",
       "4     Female   39              0        0               0     93441   \n",
       "...      ...  ...            ...      ...             ...       ...   \n",
       "7038  Female   47              0        0               0     90241   \n",
       "7039    Male   34              0        0               0     95409   \n",
       "7040  Female   33              0        0               0     94595   \n",
       "7041    Male   24              0        0               0     96126   \n",
       "7042    Male   22              0        0               0     95432   \n",
       "\n",
       "              city  \n",
       "0        Camarillo  \n",
       "1             Napa  \n",
       "2         Sheridan  \n",
       "3          La Mesa  \n",
       "4       Los Olivos  \n",
       "...            ...  \n",
       "7038        Downey  \n",
       "7039    Santa Rosa  \n",
       "7040  Walnut Creek  \n",
       "7041   Sierraville  \n",
       "7042           Elk  \n",
       "\n",
       "[7043 rows x 36 columns]"
      ]
     },
     "execution_count": 25,
     "metadata": {},
     "output_type": "execute_result"
    }
   ],
   "source": [
    "# Function to convert yes/no columns to 1/0\n",
    "def convert_yes_no_to_binary(df):\n",
    "    yes_no_columns = df.select_dtypes(include=['object']).columns\n",
    "    df[yes_no_columns] = df[yes_no_columns].replace({'Yes': 1, 'No': 0})\n",
    "    return df\n",
    "\n",
    "# Apply the function\n",
    "df = convert_yes_no_to_binary(df)\n",
    "df"
   ]
  },
  {
   "cell_type": "code",
   "execution_count": 26,
   "id": "71abb2b1",
   "metadata": {},
   "outputs": [
    {
     "data": {
      "application/vnd.plotly.v1+json": {
       "config": {
        "plotlyServerURL": "https://plot.ly"
       },
       "data": [
        {
         "coloraxis": "coloraxis",
         "hovertemplate": "x: %{x}<br>y: %{y}<br>Correlation: %{z}<extra></extra>",
         "name": "0",
         "type": "heatmap",
         "x": [
          "tenure_months",
          "num_referrals",
          "has_internet_service",
          "has_unlimited_data",
          "has_phone_service",
          "has_multiple_lines",
          "has_premium_tech_support",
          "has_online_security",
          "has_online_backup",
          "has_device_protection",
          "paperless_billing",
          "avg_long_distance_fee_monthly",
          "total_long_distance_fee",
          "avg_gb_download_monthly",
          "stream_tv",
          "stream_movie",
          "stream_music",
          "total_monthly_fee",
          "total_charges_quarter",
          "total_refunds",
          "age",
          "senior_citizen",
          "married",
          "num_dependents",
          "zip_code"
         ],
         "xaxis": "x",
         "y": [
          "tenure_months",
          "num_referrals",
          "has_internet_service",
          "has_unlimited_data",
          "has_phone_service",
          "has_multiple_lines",
          "has_premium_tech_support",
          "has_online_security",
          "has_online_backup",
          "has_device_protection",
          "paperless_billing",
          "avg_long_distance_fee_monthly",
          "total_long_distance_fee",
          "avg_gb_download_monthly",
          "stream_tv",
          "stream_movie",
          "stream_music",
          "total_monthly_fee",
          "total_charges_quarter",
          "total_refunds",
          "age",
          "senior_citizen",
          "married",
          "num_dependents",
          "zip_code"
         ],
         "yaxis": "y",
         "z": [
          [
           1,
           0.32697459335811746,
           0.03858178712414774,
           0.031193763243086717,
           0.008271310303159932,
           0.3321011633146486,
           0.3245538578147356,
           0.3275433487631284,
           0.3605578260704672,
           0.36093531969866866,
           0.005743077597548993,
           0.014596019226958119,
           0.6741490156444481,
           0.049118613696952695,
           0.2799275488141357,
           0.28592576016085813,
           0.23808202251049634,
           0.24758204136146014,
           0.8260735088595919,
           0.05902139053980855,
           0.009927001802726609,
           0.016298658156949704,
           0.38039381900560615,
           0.1082371883412683,
           0.007145749157662847
          ],
          [
           0.32697459335811746,
           1,
           -0.038983791709378164,
           -0.005813480558013292,
           0.009946847872873338,
           0.07808001871275685,
           0.10772476773774811,
           0.14241596738380347,
           0.11236850813910935,
           0.1166949619177471,
           -0.0448880827505381,
           0.006336342034775545,
           0.21618984767736965,
           0.03857488848920484,
           0.07968708441641345,
           0.057821283952333255,
           0.05134860167161933,
           0.02817296205386094,
           0.250377505095488,
           0.024755986361703192,
           -0.025141148952567624,
           -0.026575295320768896,
           0.672867305408371,
           0.2780031144707728,
           0.0014625219244101687
          ],
          [
           0.03858178712414774,
           -0.038983791709378164,
           1,
           0.7557338429377021,
           -0.17220876982805305,
           0.21056352377913004,
           0.33629828469845846,
           0.33340270489645063,
           0.38159329680772713,
           0.380754337952956,
           0.32101306523320916,
           -0.06860544597454139,
           -0.01312770705040039,
           0.528449522737702,
           0.41555189388029534,
           0.41867507897021694,
           0.3886930471880007,
           0.7635565582865724,
           0.375268866944825,
           0.020514979470143357,
           0.11734631940860193,
           0.1827417229067249,
           -0.000615165086389749,
           -0.15313732025889568,
           -0.01675488283456794
          ],
          [
           0.031193763243086717,
           -0.005813480558013292,
           0.7557338429377021,
           1,
           -0.12239523967686484,
           0.15966894351875777,
           0.2514958520419856,
           0.2650366157172699,
           0.28385485883216366,
           0.2966191885914404,
           0.24521542262729532,
           -0.05327278478846177,
           -0.009184741709629287,
           0.3952089591100413,
           0.32325638572568993,
           0.31845276786919535,
           0.2970105131241118,
           0.5824843109569519,
           0.28822016303316644,
           0.011101019449848324,
           0.08435251594516936,
           0.140178620767134,
           0.018792304064938342,
           -0.11385271601268065,
           -0.012157039989893783
          ],
          [
           0.008271310303159932,
           0.009946847872873338,
           -0.17220876982805305,
           -0.12239523967686484,
           1,
           0.2796899947429129,
           -0.09633961826825914,
           -0.09289270011220924,
           -0.052312242947635805,
           -0.07122688671747514,
           0.01650480573256961,
           0.4866726784748117,
           0.28972810244398456,
           -0.10274811164881863,
           -0.02257359179493713,
           -0.03295889236478104,
           -0.03925202245769792,
           0.24739796321413685,
           0.1131056106821277,
           0.006330907022809429,
           0.009964904812449295,
           0.008576401079279355,
           0.017705663223971973,
           -0.010149453055253815,
           -0.008830176186680461
          ],
          [
           0.3321011633146486,
           0.07808001871275685,
           0.21056352377913004,
           0.15966894351875777,
           0.2796899947429129,
           1,
           0.10057130998573978,
           0.09810813969726381,
           0.20223701632049523,
           0.20113653254495914,
           0.16353017421292798,
           0.13600437853592423,
           0.32316506495448266,
           0.09167948206487239,
           0.257151635108247,
           0.25875149199377706,
           0.1933623762708481,
           0.4904339694400304,
           0.4686150456581287,
           0.04549055896680244,
           0.10312239778290225,
           0.14294817476276164,
           0.14205707936228643,
           -0.03030679408185554,
           -0.021182987929678466
          ],
          [
           0.3245538578147356,
           0.10772476773774811,
           0.33629828469845846,
           0.2514958520419856,
           -0.09633961826825914,
           0.10057130998573978,
           1,
           0.3549307078927626,
           0.2942328784068941,
           0.33331256231543777,
           0.03787990020728132,
           -0.04821739943101264,
           0.18207623591603206,
           0.22392362682432473,
           0.27807020363725504,
           0.2793584789284229,
           0.27615727864219086,
           0.33830426422015364,
           0.4321462454157313,
           0.03482313541614489,
           -0.04375975820612238,
           -0.06062459069356328,
           0.11999886976431591,
           0.022094054847505082,
           0.01675172919467064
          ],
          [
           0.3275433487631284,
           0.14241596738380347,
           0.33340270489645063,
           0.2650366157172699,
           -0.09289270011220924,
           0.09810813969726381,
           0.3549307078927626,
           1,
           0.2838322335327231,
           0.275437978743786,
           -0.0036358971484742163,
           -0.028107822562592616,
           0.20047746064083685,
           0.23473848536435746,
           0.1762073070423951,
           0.18739833092624994,
           0.1956039869321696,
           0.29659419200056625,
           0.4119220739575096,
           0.008189820605610626,
           -0.03800117043480554,
           -0.038652704497194774,
           0.14310622750264326,
           0.04197724111887863,
           0.009159150353591102
          ],
          [
           0.3605578260704672,
           0.11236850813910935,
           0.38159329680772713,
           0.28385485883216366,
           -0.052312242947635805,
           0.20223701632049523,
           0.2942328784068941,
           0.2838322335327231,
           1,
           0.3035462090113269,
           0.1267353730069731,
           -0.013909316330763654,
           0.23987277576969004,
           0.2292536736725911,
           0.2821064219717702,
           0.27450120196049993,
           0.2455593299256686,
           0.44178009435947285,
           0.5095065890194278,
           0.016855219670190977,
           0.035541401296886765,
           0.06657213514513448,
           0.14149801947228186,
           0.0017208746018444775,
           -0.004057794497051026
          ],
          [
           0.36093531969866866,
           0.1166949619177471,
           0.380754337952956,
           0.2966191885914404,
           -0.07122688671747514,
           0.20113653254495914,
           0.33331256231543777,
           0.275437978743786,
           0.3035462090113269,
           1,
           0.1037968049815414,
           -0.03186865623893868,
           0.2100574041608933,
           0.22587677651285432,
           0.390874026919582,
           0.4021105377661715,
           0.34920842835730853,
           0.4826920482732949,
           0.5222550555367296,
           0.026037812441781234,
           0.02849085348375697,
           0.05942849428693285,
           0.15378643563077887,
           -0.019924607655260433,
           0.005999090850829633
          ],
          [
           0.005743077597548993,
           -0.0448880827505381,
           0.32101306523320916,
           0.24521542262729532,
           0.01650480573256961,
           0.16353017421292798,
           0.03787990020728132,
           -0.0036358971484742163,
           0.1267353730069731,
           0.1037968049815414,
           1,
           0.01867303326529159,
           0.018923618478465742,
           0.1429987145136871,
           0.22384098246010256,
           0.2117159917651302,
           0.16717183747865869,
           0.3521499677959873,
           0.15844158804838462,
           0.003966320098347557,
           0.1007228678363481,
           0.15652955931117243,
           -0.014876622287891028,
           -0.10681411774139433,
           -0.014488748939096132
          ],
          [
           0.014596019226958119,
           0.006336342034775545,
           -0.06860544597454139,
           -0.05327278478846177,
           0.4866726784748117,
           0.13600437853592423,
           -0.04821739943101264,
           -0.028107822562592616,
           -0.013909316330763654,
           -0.03186865623893868,
           0.01867303326529159,
           1,
           0.5998282911988303,
           -0.03045454384415782,
           0.0016411559946166148,
           0.003611803740207998,
           0.008044101139996427,
           0.1383961815718931,
           0.06950017462069699,
           -0.018643863320122505,
           -0.011748735116449785,
           -0.0007130981239915397,
           0.010214779358864359,
           -0.007323974127528314,
           0.005894173258189032
          ],
          [
           0.6741490156444481,
           0.21618984767736965,
           -0.01312770705040039,
           -0.009184741709629287,
           0.28972810244398456,
           0.32316506495448266,
           0.18207623591603206,
           0.20047746064083685,
           0.23987277576969004,
           0.2100574041608933,
           0.018923618478465742,
           0.5998282911988303,
           1,
           0.011372784344080957,
           0.1823021009579737,
           0.18647793492465614,
           0.15141059977380547,
           0.246300320378989,
           0.6101851906103242,
           0.0281125918823345,
           0.0030650527742328276,
           0.01053434953187814,
           0.2642299648850069,
           0.06896559841521877,
           0.005062702526080926
          ],
          [
           0.049118613696952695,
           0.03857488848920484,
           0.528449522737702,
           0.3952089591100413,
           -0.10274811164881863,
           0.09167948206487239,
           0.22392362682432473,
           0.23473848536435746,
           0.2292536736725911,
           0.22587677651285432,
           0.1429987145136871,
           -0.03045454384415782,
           0.011372784344080957,
           1,
           0.22771511765709304,
           0.23121060547246736,
           0.3239978017292729,
           0.391787488875473,
           0.22326785997304194,
           0.0023966243836839114,
           -0.3765952787908203,
           -0.10187386734099953,
           0.0567445026852293,
           0.12996573674974196,
           -0.010997793585960963
          ],
          [
           0.2799275488141357,
           0.07968708441641345,
           0.41555189388029534,
           0.32325638572568993,
           -0.02257359179493713,
           0.257151635108247,
           0.27807020363725504,
           0.1762073070423951,
           0.2821064219717702,
           0.390874026919582,
           0.22384098246010256,
           0.0016411559946166148,
           0.1823021009579737,
           0.22771511765709304,
           1,
           0.5330938326943164,
           0.455387002938085,
           0.6296031609781648,
           0.5152168374742301,
           0.021796361714899307,
           0.059759559015904205,
           0.10537766784282362,
           0.12466580056491765,
           -0.05298129344459533,
           0.0030043096554697698
          ],
          [
           0.28592576016085813,
           0.057821283952333255,
           0.41867507897021694,
           0.31845276786919535,
           -0.03295889236478104,
           0.25875149199377706,
           0.2793584789284229,
           0.18739833092624994,
           0.27450120196049993,
           0.4021105377661715,
           0.2117159917651302,
           0.003611803740207998,
           0.18647793492465614,
           0.23121060547246736,
           0.5330938326943164,
           1,
           0.848528132701025,
           0.6274288843898584,
           0.5201302080799727,
           0.01358721294722854,
           0.07345812955409804,
           0.12017625118896513,
           0.11741185447194481,
           -0.06521479201593214,
           0.0033407373801720964
          ],
          [
           0.23808202251049634,
           0.05134860167161933,
           0.3886930471880007,
           0.2970105131241118,
           -0.03925202245769792,
           0.1933623762708481,
           0.27615727864219086,
           0.1956039869321696,
           0.2455593299256686,
           0.34920842835730853,
           0.16717183747865869,
           0.008044101139996427,
           0.15141059977380547,
           0.3239978017292729,
           0.455387002938085,
           0.848528132701025,
           1,
           0.5362701587810224,
           0.4404624326959223,
           0.003211840860486481,
           -0.15539985146573015,
           -0.14782304534443516,
           0.08869957616205919,
           -0.03304762664381184,
           0.0030388365412511386
          ],
          [
           0.24758204136146014,
           0.02817296205386094,
           0.7635565582865724,
           0.5824843109569519,
           0.24739796321413685,
           0.4904339694400304,
           0.33830426422015364,
           0.29659419200056625,
           0.44178009435947285,
           0.4826920482732949,
           0.3521499677959873,
           0.1383961815718931,
           0.246300320378989,
           0.391787488875473,
           0.6296031609781648,
           0.6274288843898584,
           0.5362701587810224,
           1,
           0.6512355104762763,
           0.03348197065738964,
           0.1446850072317259,
           0.22017333857627167,
           0.096847936256475,
           -0.1318365506024472,
           -0.010775005774971147
          ],
          [
           0.8260735088595919,
           0.250377505095488,
           0.375268866944825,
           0.28822016303316644,
           0.1131056106821277,
           0.4686150456581287,
           0.4321462454157313,
           0.4119220739575096,
           0.5095065890194278,
           0.5222550555367296,
           0.15844158804838462,
           0.06950017462069699,
           0.6101851906103242,
           0.22326785997304194,
           0.5152168374742301,
           0.5201302080799727,
           0.4404624326959223,
           0.6512355104762763,
           1,
           0.03955848360858376,
           0.0596840333399585,
           0.10290667819278879,
           0.3177767915135064,
           0.02253458355172734,
           0.001978442020758333
          ],
          [
           0.05902139053980855,
           0.024755986361703192,
           0.020514979470143357,
           0.011101019449848324,
           0.006330907022809429,
           0.04549055896680244,
           0.03482313541614489,
           0.008189820605610626,
           0.016855219670190977,
           0.026037812441781234,
           0.003966320098347557,
           -0.018643863320122505,
           0.0281125918823345,
           0.0023966243836839114,
           0.021796361714899307,
           0.01358721294722854,
           0.003211840860486481,
           0.03348197065738964,
           0.03955848360858376,
           1,
           0.024168362856329274,
           0.028564756498994967,
           0.04014180042296445,
           0.014023410949907044,
           -0.0037970803603915746
          ],
          [
           0.009927001802726609,
           -0.025141148952567624,
           0.11734631940860193,
           0.08435251594516936,
           0.009964904812449295,
           0.10312239778290225,
           -0.04375975820612238,
           -0.03800117043480554,
           0.035541401296886765,
           0.02849085348375697,
           0.1007228678363481,
           -0.011748735116449785,
           0.0030650527742328276,
           -0.3765952787908203,
           0.059759559015904205,
           0.07345812955409804,
           -0.15539985146573015,
           0.1446850072317259,
           0.0596840333399585,
           0.024168362856329274,
           1,
           0.6815071891169561,
           -0.0036657222158521566,
           -0.11899986236246113,
           -0.008183308942111818
          ],
          [
           0.016298658156949704,
           -0.026575295320768896,
           0.1827417229067249,
           0.140178620767134,
           0.008576401079279355,
           0.14294817476276164,
           -0.06062459069356328,
           -0.038652704497194774,
           0.06657213514513448,
           0.05942849428693285,
           0.15652955931117243,
           -0.0007130981239915397,
           0.01053434953187814,
           -0.10187386734099953,
           0.10537766784282362,
           0.12017625118896513,
           -0.14782304534443516,
           0.22017333857627167,
           0.10290667819278879,
           0.028564756498994967,
           0.6815071891169561,
           1,
           0.01647865759741395,
           -0.16815208247472385,
           -0.012995460256670357
          ],
          [
           0.38039381900560615,
           0.672867305408371,
           -0.000615165086389749,
           0.018792304064938342,
           0.017705663223971973,
           0.14205707936228643,
           0.11999886976431591,
           0.14310622750264326,
           0.14149801947228186,
           0.15378643563077887,
           -0.014876622287891028,
           0.010214779358864359,
           0.2642299648850069,
           0.0567445026852293,
           0.12466580056491765,
           0.11741185447194481,
           0.08869957616205919,
           0.096847936256475,
           0.3177767915135064,
           0.04014180042296445,
           -0.0036657222158521566,
           0.01647865759741395,
           1,
           0.3242051367512026,
           -0.0015770542935477903
          ],
          [
           0.1082371883412683,
           0.2780031144707728,
           -0.15313732025889568,
           -0.11385271601268065,
           -0.010149453055253815,
           -0.03030679408185554,
           0.022094054847505082,
           0.04197724111887863,
           0.0017208746018444775,
           -0.019924607655260433,
           -0.10681411774139433,
           -0.007323974127528314,
           0.06896559841521877,
           0.12996573674974196,
           -0.05298129344459533,
           -0.06521479201593214,
           -0.03304762664381184,
           -0.1318365506024472,
           0.02253458355172734,
           0.014023410949907044,
           -0.11899986236246113,
           -0.16815208247472385,
           0.3242051367512026,
           1,
           0.01649316118259752
          ],
          [
           0.007145749157662847,
           0.0014625219244101687,
           -0.01675488283456794,
           -0.012157039989893783,
           -0.008830176186680461,
           -0.021182987929678466,
           0.01675172919467064,
           0.009159150353591102,
           -0.004057794497051026,
           0.005999090850829633,
           -0.014488748939096132,
           0.005894173258189032,
           0.005062702526080926,
           -0.010997793585960963,
           0.0030043096554697698,
           0.0033407373801720964,
           0.0030388365412511386,
           -0.010775005774971147,
           0.001978442020758333,
           -0.0037970803603915746,
           -0.008183308942111818,
           -0.012995460256670357,
           -0.0015770542935477903,
           0.01649316118259752,
           1
          ]
         ]
        }
       ],
       "layout": {
        "coloraxis": {
         "cmax": 1,
         "cmin": -1,
         "colorbar": {
          "title": {
           "text": "Correlation"
          }
         },
         "colorscale": [
          [
           0,
           "rgb(5,48,97)"
          ],
          [
           0.1,
           "rgb(33,102,172)"
          ],
          [
           0.2,
           "rgb(67,147,195)"
          ],
          [
           0.3,
           "rgb(146,197,222)"
          ],
          [
           0.4,
           "rgb(209,229,240)"
          ],
          [
           0.5,
           "rgb(247,247,247)"
          ],
          [
           0.6,
           "rgb(253,219,199)"
          ],
          [
           0.7,
           "rgb(244,165,130)"
          ],
          [
           0.8,
           "rgb(214,96,77)"
          ],
          [
           0.9,
           "rgb(178,24,43)"
          ],
          [
           1,
           "rgb(103,0,31)"
          ]
         ]
        },
        "margin": {
         "t": 60
        },
        "template": {
         "data": {
          "bar": [
           {
            "error_x": {
             "color": "#2a3f5f"
            },
            "error_y": {
             "color": "#2a3f5f"
            },
            "marker": {
             "line": {
              "color": "#E5ECF6",
              "width": 0.5
             },
             "pattern": {
              "fillmode": "overlay",
              "size": 10,
              "solidity": 0.2
             }
            },
            "type": "bar"
           }
          ],
          "barpolar": [
           {
            "marker": {
             "line": {
              "color": "#E5ECF6",
              "width": 0.5
             },
             "pattern": {
              "fillmode": "overlay",
              "size": 10,
              "solidity": 0.2
             }
            },
            "type": "barpolar"
           }
          ],
          "carpet": [
           {
            "aaxis": {
             "endlinecolor": "#2a3f5f",
             "gridcolor": "white",
             "linecolor": "white",
             "minorgridcolor": "white",
             "startlinecolor": "#2a3f5f"
            },
            "baxis": {
             "endlinecolor": "#2a3f5f",
             "gridcolor": "white",
             "linecolor": "white",
             "minorgridcolor": "white",
             "startlinecolor": "#2a3f5f"
            },
            "type": "carpet"
           }
          ],
          "choropleth": [
           {
            "colorbar": {
             "outlinewidth": 0,
             "ticks": ""
            },
            "type": "choropleth"
           }
          ],
          "contour": [
           {
            "colorbar": {
             "outlinewidth": 0,
             "ticks": ""
            },
            "colorscale": [
             [
              0,
              "#0d0887"
             ],
             [
              0.1111111111111111,
              "#46039f"
             ],
             [
              0.2222222222222222,
              "#7201a8"
             ],
             [
              0.3333333333333333,
              "#9c179e"
             ],
             [
              0.4444444444444444,
              "#bd3786"
             ],
             [
              0.5555555555555556,
              "#d8576b"
             ],
             [
              0.6666666666666666,
              "#ed7953"
             ],
             [
              0.7777777777777778,
              "#fb9f3a"
             ],
             [
              0.8888888888888888,
              "#fdca26"
             ],
             [
              1,
              "#f0f921"
             ]
            ],
            "type": "contour"
           }
          ],
          "contourcarpet": [
           {
            "colorbar": {
             "outlinewidth": 0,
             "ticks": ""
            },
            "type": "contourcarpet"
           }
          ],
          "heatmap": [
           {
            "colorbar": {
             "outlinewidth": 0,
             "ticks": ""
            },
            "colorscale": [
             [
              0,
              "#0d0887"
             ],
             [
              0.1111111111111111,
              "#46039f"
             ],
             [
              0.2222222222222222,
              "#7201a8"
             ],
             [
              0.3333333333333333,
              "#9c179e"
             ],
             [
              0.4444444444444444,
              "#bd3786"
             ],
             [
              0.5555555555555556,
              "#d8576b"
             ],
             [
              0.6666666666666666,
              "#ed7953"
             ],
             [
              0.7777777777777778,
              "#fb9f3a"
             ],
             [
              0.8888888888888888,
              "#fdca26"
             ],
             [
              1,
              "#f0f921"
             ]
            ],
            "type": "heatmap"
           }
          ],
          "heatmapgl": [
           {
            "colorbar": {
             "outlinewidth": 0,
             "ticks": ""
            },
            "colorscale": [
             [
              0,
              "#0d0887"
             ],
             [
              0.1111111111111111,
              "#46039f"
             ],
             [
              0.2222222222222222,
              "#7201a8"
             ],
             [
              0.3333333333333333,
              "#9c179e"
             ],
             [
              0.4444444444444444,
              "#bd3786"
             ],
             [
              0.5555555555555556,
              "#d8576b"
             ],
             [
              0.6666666666666666,
              "#ed7953"
             ],
             [
              0.7777777777777778,
              "#fb9f3a"
             ],
             [
              0.8888888888888888,
              "#fdca26"
             ],
             [
              1,
              "#f0f921"
             ]
            ],
            "type": "heatmapgl"
           }
          ],
          "histogram": [
           {
            "marker": {
             "pattern": {
              "fillmode": "overlay",
              "size": 10,
              "solidity": 0.2
             }
            },
            "type": "histogram"
           }
          ],
          "histogram2d": [
           {
            "colorbar": {
             "outlinewidth": 0,
             "ticks": ""
            },
            "colorscale": [
             [
              0,
              "#0d0887"
             ],
             [
              0.1111111111111111,
              "#46039f"
             ],
             [
              0.2222222222222222,
              "#7201a8"
             ],
             [
              0.3333333333333333,
              "#9c179e"
             ],
             [
              0.4444444444444444,
              "#bd3786"
             ],
             [
              0.5555555555555556,
              "#d8576b"
             ],
             [
              0.6666666666666666,
              "#ed7953"
             ],
             [
              0.7777777777777778,
              "#fb9f3a"
             ],
             [
              0.8888888888888888,
              "#fdca26"
             ],
             [
              1,
              "#f0f921"
             ]
            ],
            "type": "histogram2d"
           }
          ],
          "histogram2dcontour": [
           {
            "colorbar": {
             "outlinewidth": 0,
             "ticks": ""
            },
            "colorscale": [
             [
              0,
              "#0d0887"
             ],
             [
              0.1111111111111111,
              "#46039f"
             ],
             [
              0.2222222222222222,
              "#7201a8"
             ],
             [
              0.3333333333333333,
              "#9c179e"
             ],
             [
              0.4444444444444444,
              "#bd3786"
             ],
             [
              0.5555555555555556,
              "#d8576b"
             ],
             [
              0.6666666666666666,
              "#ed7953"
             ],
             [
              0.7777777777777778,
              "#fb9f3a"
             ],
             [
              0.8888888888888888,
              "#fdca26"
             ],
             [
              1,
              "#f0f921"
             ]
            ],
            "type": "histogram2dcontour"
           }
          ],
          "mesh3d": [
           {
            "colorbar": {
             "outlinewidth": 0,
             "ticks": ""
            },
            "type": "mesh3d"
           }
          ],
          "parcoords": [
           {
            "line": {
             "colorbar": {
              "outlinewidth": 0,
              "ticks": ""
             }
            },
            "type": "parcoords"
           }
          ],
          "pie": [
           {
            "automargin": true,
            "type": "pie"
           }
          ],
          "scatter": [
           {
            "fillpattern": {
             "fillmode": "overlay",
             "size": 10,
             "solidity": 0.2
            },
            "type": "scatter"
           }
          ],
          "scatter3d": [
           {
            "line": {
             "colorbar": {
              "outlinewidth": 0,
              "ticks": ""
             }
            },
            "marker": {
             "colorbar": {
              "outlinewidth": 0,
              "ticks": ""
             }
            },
            "type": "scatter3d"
           }
          ],
          "scattercarpet": [
           {
            "marker": {
             "colorbar": {
              "outlinewidth": 0,
              "ticks": ""
             }
            },
            "type": "scattercarpet"
           }
          ],
          "scattergeo": [
           {
            "marker": {
             "colorbar": {
              "outlinewidth": 0,
              "ticks": ""
             }
            },
            "type": "scattergeo"
           }
          ],
          "scattergl": [
           {
            "marker": {
             "colorbar": {
              "outlinewidth": 0,
              "ticks": ""
             }
            },
            "type": "scattergl"
           }
          ],
          "scattermapbox": [
           {
            "marker": {
             "colorbar": {
              "outlinewidth": 0,
              "ticks": ""
             }
            },
            "type": "scattermapbox"
           }
          ],
          "scatterpolar": [
           {
            "marker": {
             "colorbar": {
              "outlinewidth": 0,
              "ticks": ""
             }
            },
            "type": "scatterpolar"
           }
          ],
          "scatterpolargl": [
           {
            "marker": {
             "colorbar": {
              "outlinewidth": 0,
              "ticks": ""
             }
            },
            "type": "scatterpolargl"
           }
          ],
          "scatterternary": [
           {
            "marker": {
             "colorbar": {
              "outlinewidth": 0,
              "ticks": ""
             }
            },
            "type": "scatterternary"
           }
          ],
          "surface": [
           {
            "colorbar": {
             "outlinewidth": 0,
             "ticks": ""
            },
            "colorscale": [
             [
              0,
              "#0d0887"
             ],
             [
              0.1111111111111111,
              "#46039f"
             ],
             [
              0.2222222222222222,
              "#7201a8"
             ],
             [
              0.3333333333333333,
              "#9c179e"
             ],
             [
              0.4444444444444444,
              "#bd3786"
             ],
             [
              0.5555555555555556,
              "#d8576b"
             ],
             [
              0.6666666666666666,
              "#ed7953"
             ],
             [
              0.7777777777777778,
              "#fb9f3a"
             ],
             [
              0.8888888888888888,
              "#fdca26"
             ],
             [
              1,
              "#f0f921"
             ]
            ],
            "type": "surface"
           }
          ],
          "table": [
           {
            "cells": {
             "fill": {
              "color": "#EBF0F8"
             },
             "line": {
              "color": "white"
             }
            },
            "header": {
             "fill": {
              "color": "#C8D4E3"
             },
             "line": {
              "color": "white"
             }
            },
            "type": "table"
           }
          ]
         },
         "layout": {
          "annotationdefaults": {
           "arrowcolor": "#2a3f5f",
           "arrowhead": 0,
           "arrowwidth": 1
          },
          "autotypenumbers": "strict",
          "coloraxis": {
           "colorbar": {
            "outlinewidth": 0,
            "ticks": ""
           }
          },
          "colorscale": {
           "diverging": [
            [
             0,
             "#8e0152"
            ],
            [
             0.1,
             "#c51b7d"
            ],
            [
             0.2,
             "#de77ae"
            ],
            [
             0.3,
             "#f1b6da"
            ],
            [
             0.4,
             "#fde0ef"
            ],
            [
             0.5,
             "#f7f7f7"
            ],
            [
             0.6,
             "#e6f5d0"
            ],
            [
             0.7,
             "#b8e186"
            ],
            [
             0.8,
             "#7fbc41"
            ],
            [
             0.9,
             "#4d9221"
            ],
            [
             1,
             "#276419"
            ]
           ],
           "sequential": [
            [
             0,
             "#0d0887"
            ],
            [
             0.1111111111111111,
             "#46039f"
            ],
            [
             0.2222222222222222,
             "#7201a8"
            ],
            [
             0.3333333333333333,
             "#9c179e"
            ],
            [
             0.4444444444444444,
             "#bd3786"
            ],
            [
             0.5555555555555556,
             "#d8576b"
            ],
            [
             0.6666666666666666,
             "#ed7953"
            ],
            [
             0.7777777777777778,
             "#fb9f3a"
            ],
            [
             0.8888888888888888,
             "#fdca26"
            ],
            [
             1,
             "#f0f921"
            ]
           ],
           "sequentialminus": [
            [
             0,
             "#0d0887"
            ],
            [
             0.1111111111111111,
             "#46039f"
            ],
            [
             0.2222222222222222,
             "#7201a8"
            ],
            [
             0.3333333333333333,
             "#9c179e"
            ],
            [
             0.4444444444444444,
             "#bd3786"
            ],
            [
             0.5555555555555556,
             "#d8576b"
            ],
            [
             0.6666666666666666,
             "#ed7953"
            ],
            [
             0.7777777777777778,
             "#fb9f3a"
            ],
            [
             0.8888888888888888,
             "#fdca26"
            ],
            [
             1,
             "#f0f921"
            ]
           ]
          },
          "colorway": [
           "#636efa",
           "#EF553B",
           "#00cc96",
           "#ab63fa",
           "#FFA15A",
           "#19d3f3",
           "#FF6692",
           "#B6E880",
           "#FF97FF",
           "#FECB52"
          ],
          "font": {
           "color": "#2a3f5f"
          },
          "geo": {
           "bgcolor": "white",
           "lakecolor": "white",
           "landcolor": "#E5ECF6",
           "showlakes": true,
           "showland": true,
           "subunitcolor": "white"
          },
          "hoverlabel": {
           "align": "left"
          },
          "hovermode": "closest",
          "mapbox": {
           "style": "light"
          },
          "paper_bgcolor": "white",
          "plot_bgcolor": "#E5ECF6",
          "polar": {
           "angularaxis": {
            "gridcolor": "white",
            "linecolor": "white",
            "ticks": ""
           },
           "bgcolor": "#E5ECF6",
           "radialaxis": {
            "gridcolor": "white",
            "linecolor": "white",
            "ticks": ""
           }
          },
          "scene": {
           "xaxis": {
            "backgroundcolor": "#E5ECF6",
            "gridcolor": "white",
            "gridwidth": 2,
            "linecolor": "white",
            "showbackground": true,
            "ticks": "",
            "zerolinecolor": "white"
           },
           "yaxis": {
            "backgroundcolor": "#E5ECF6",
            "gridcolor": "white",
            "gridwidth": 2,
            "linecolor": "white",
            "showbackground": true,
            "ticks": "",
            "zerolinecolor": "white"
           },
           "zaxis": {
            "backgroundcolor": "#E5ECF6",
            "gridcolor": "white",
            "gridwidth": 2,
            "linecolor": "white",
            "showbackground": true,
            "ticks": "",
            "zerolinecolor": "white"
           }
          },
          "shapedefaults": {
           "line": {
            "color": "#2a3f5f"
           }
          },
          "ternary": {
           "aaxis": {
            "gridcolor": "white",
            "linecolor": "white",
            "ticks": ""
           },
           "baxis": {
            "gridcolor": "white",
            "linecolor": "white",
            "ticks": ""
           },
           "bgcolor": "#E5ECF6",
           "caxis": {
            "gridcolor": "white",
            "linecolor": "white",
            "ticks": ""
           }
          },
          "title": {
           "x": 0.05
          },
          "xaxis": {
           "automargin": true,
           "gridcolor": "white",
           "linecolor": "white",
           "ticks": "",
           "title": {
            "standoff": 15
           },
           "zerolinecolor": "white",
           "zerolinewidth": 2
          },
          "yaxis": {
           "automargin": true,
           "gridcolor": "white",
           "linecolor": "white",
           "ticks": "",
           "title": {
            "standoff": 15
           },
           "zerolinecolor": "white",
           "zerolinewidth": 2
          }
         }
        },
        "title": {
         "text": "Correlation Heatmap"
        },
        "xaxis": {
         "anchor": "y",
         "constrain": "domain",
         "domain": [
          0,
          1
         ],
         "scaleanchor": "y",
         "title": {
          "text": "Features"
         }
        },
        "yaxis": {
         "anchor": "x",
         "autorange": "reversed",
         "constrain": "domain",
         "domain": [
          0,
          1
         ],
         "title": {
          "text": "Features"
         }
        }
       }
      },
      "text/html": [
       "<div>                            <div id=\"f989287d-1995-4ae2-bd23-ea0d78ce16d3\" class=\"plotly-graph-div\" style=\"height:525px; width:100%;\"></div>            <script type=\"text/javascript\">                require([\"plotly\"], function(Plotly) {                    window.PLOTLYENV=window.PLOTLYENV || {};                                    if (document.getElementById(\"f989287d-1995-4ae2-bd23-ea0d78ce16d3\")) {                    Plotly.newPlot(                        \"f989287d-1995-4ae2-bd23-ea0d78ce16d3\",                        [{\"coloraxis\":\"coloraxis\",\"name\":\"0\",\"x\":[\"tenure_months\",\"num_referrals\",\"has_internet_service\",\"has_unlimited_data\",\"has_phone_service\",\"has_multiple_lines\",\"has_premium_tech_support\",\"has_online_security\",\"has_online_backup\",\"has_device_protection\",\"paperless_billing\",\"avg_long_distance_fee_monthly\",\"total_long_distance_fee\",\"avg_gb_download_monthly\",\"stream_tv\",\"stream_movie\",\"stream_music\",\"total_monthly_fee\",\"total_charges_quarter\",\"total_refunds\",\"age\",\"senior_citizen\",\"married\",\"num_dependents\",\"zip_code\"],\"y\":[\"tenure_months\",\"num_referrals\",\"has_internet_service\",\"has_unlimited_data\",\"has_phone_service\",\"has_multiple_lines\",\"has_premium_tech_support\",\"has_online_security\",\"has_online_backup\",\"has_device_protection\",\"paperless_billing\",\"avg_long_distance_fee_monthly\",\"total_long_distance_fee\",\"avg_gb_download_monthly\",\"stream_tv\",\"stream_movie\",\"stream_music\",\"total_monthly_fee\",\"total_charges_quarter\",\"total_refunds\",\"age\",\"senior_citizen\",\"married\",\"num_dependents\",\"zip_code\"],\"z\":[[1.0,0.32697459335811746,0.03858178712414774,0.031193763243086717,0.008271310303159932,0.3321011633146486,0.3245538578147356,0.3275433487631284,0.3605578260704672,0.36093531969866866,0.005743077597548993,0.014596019226958119,0.6741490156444481,0.049118613696952695,0.2799275488141357,0.28592576016085813,0.23808202251049634,0.24758204136146014,0.8260735088595919,0.05902139053980855,0.009927001802726609,0.016298658156949704,0.38039381900560615,0.1082371883412683,0.007145749157662847],[0.32697459335811746,1.0,-0.038983791709378164,-0.005813480558013292,0.009946847872873338,0.07808001871275685,0.10772476773774811,0.14241596738380347,0.11236850813910935,0.1166949619177471,-0.0448880827505381,0.006336342034775545,0.21618984767736965,0.03857488848920484,0.07968708441641345,0.057821283952333255,0.05134860167161933,0.02817296205386094,0.250377505095488,0.024755986361703192,-0.025141148952567624,-0.026575295320768896,0.672867305408371,0.2780031144707728,0.0014625219244101687],[0.03858178712414774,-0.038983791709378164,1.0,0.7557338429377021,-0.17220876982805305,0.21056352377913004,0.33629828469845846,0.33340270489645063,0.38159329680772713,0.380754337952956,0.32101306523320916,-0.06860544597454139,-0.01312770705040039,0.528449522737702,0.41555189388029534,0.41867507897021694,0.3886930471880007,0.7635565582865724,0.375268866944825,0.020514979470143357,0.11734631940860193,0.1827417229067249,-0.000615165086389749,-0.15313732025889568,-0.01675488283456794],[0.031193763243086717,-0.005813480558013292,0.7557338429377021,1.0,-0.12239523967686484,0.15966894351875777,0.2514958520419856,0.2650366157172699,0.28385485883216366,0.2966191885914404,0.24521542262729532,-0.05327278478846177,-0.009184741709629287,0.3952089591100413,0.32325638572568993,0.31845276786919535,0.2970105131241118,0.5824843109569519,0.28822016303316644,0.011101019449848324,0.08435251594516936,0.140178620767134,0.018792304064938342,-0.11385271601268065,-0.012157039989893783],[0.008271310303159932,0.009946847872873338,-0.17220876982805305,-0.12239523967686484,1.0,0.2796899947429129,-0.09633961826825914,-0.09289270011220924,-0.052312242947635805,-0.07122688671747514,0.01650480573256961,0.4866726784748117,0.28972810244398456,-0.10274811164881863,-0.02257359179493713,-0.03295889236478104,-0.03925202245769792,0.24739796321413685,0.1131056106821277,0.006330907022809429,0.009964904812449295,0.008576401079279355,0.017705663223971973,-0.010149453055253815,-0.008830176186680461],[0.3321011633146486,0.07808001871275685,0.21056352377913004,0.15966894351875777,0.2796899947429129,1.0,0.10057130998573978,0.09810813969726381,0.20223701632049523,0.20113653254495914,0.16353017421292798,0.13600437853592423,0.32316506495448266,0.09167948206487239,0.257151635108247,0.25875149199377706,0.1933623762708481,0.4904339694400304,0.4686150456581287,0.04549055896680244,0.10312239778290225,0.14294817476276164,0.14205707936228643,-0.03030679408185554,-0.021182987929678466],[0.3245538578147356,0.10772476773774811,0.33629828469845846,0.2514958520419856,-0.09633961826825914,0.10057130998573978,1.0,0.3549307078927626,0.2942328784068941,0.33331256231543777,0.03787990020728132,-0.04821739943101264,0.18207623591603206,0.22392362682432473,0.27807020363725504,0.2793584789284229,0.27615727864219086,0.33830426422015364,0.4321462454157313,0.03482313541614489,-0.04375975820612238,-0.06062459069356328,0.11999886976431591,0.022094054847505082,0.01675172919467064],[0.3275433487631284,0.14241596738380347,0.33340270489645063,0.2650366157172699,-0.09289270011220924,0.09810813969726381,0.3549307078927626,1.0,0.2838322335327231,0.275437978743786,-0.0036358971484742163,-0.028107822562592616,0.20047746064083685,0.23473848536435746,0.1762073070423951,0.18739833092624994,0.1956039869321696,0.29659419200056625,0.4119220739575096,0.008189820605610626,-0.03800117043480554,-0.038652704497194774,0.14310622750264326,0.04197724111887863,0.009159150353591102],[0.3605578260704672,0.11236850813910935,0.38159329680772713,0.28385485883216366,-0.052312242947635805,0.20223701632049523,0.2942328784068941,0.2838322335327231,1.0,0.3035462090113269,0.1267353730069731,-0.013909316330763654,0.23987277576969004,0.2292536736725911,0.2821064219717702,0.27450120196049993,0.2455593299256686,0.44178009435947285,0.5095065890194278,0.016855219670190977,0.035541401296886765,0.06657213514513448,0.14149801947228186,0.0017208746018444775,-0.004057794497051026],[0.36093531969866866,0.1166949619177471,0.380754337952956,0.2966191885914404,-0.07122688671747514,0.20113653254495914,0.33331256231543777,0.275437978743786,0.3035462090113269,1.0,0.1037968049815414,-0.03186865623893868,0.2100574041608933,0.22587677651285432,0.390874026919582,0.4021105377661715,0.34920842835730853,0.4826920482732949,0.5222550555367296,0.026037812441781234,0.02849085348375697,0.05942849428693285,0.15378643563077887,-0.019924607655260433,0.005999090850829633],[0.005743077597548993,-0.0448880827505381,0.32101306523320916,0.24521542262729532,0.01650480573256961,0.16353017421292798,0.03787990020728132,-0.0036358971484742163,0.1267353730069731,0.1037968049815414,1.0,0.01867303326529159,0.018923618478465742,0.1429987145136871,0.22384098246010256,0.2117159917651302,0.16717183747865869,0.3521499677959873,0.15844158804838462,0.003966320098347557,0.1007228678363481,0.15652955931117243,-0.014876622287891028,-0.10681411774139433,-0.014488748939096132],[0.014596019226958119,0.006336342034775545,-0.06860544597454139,-0.05327278478846177,0.4866726784748117,0.13600437853592423,-0.04821739943101264,-0.028107822562592616,-0.013909316330763654,-0.03186865623893868,0.01867303326529159,1.0,0.5998282911988303,-0.03045454384415782,0.0016411559946166148,0.003611803740207998,0.008044101139996427,0.1383961815718931,0.06950017462069699,-0.018643863320122505,-0.011748735116449785,-0.0007130981239915397,0.010214779358864359,-0.007323974127528314,0.005894173258189032],[0.6741490156444481,0.21618984767736965,-0.01312770705040039,-0.009184741709629287,0.28972810244398456,0.32316506495448266,0.18207623591603206,0.20047746064083685,0.23987277576969004,0.2100574041608933,0.018923618478465742,0.5998282911988303,1.0,0.011372784344080957,0.1823021009579737,0.18647793492465614,0.15141059977380547,0.246300320378989,0.6101851906103242,0.0281125918823345,0.0030650527742328276,0.01053434953187814,0.2642299648850069,0.06896559841521877,0.005062702526080926],[0.049118613696952695,0.03857488848920484,0.528449522737702,0.3952089591100413,-0.10274811164881863,0.09167948206487239,0.22392362682432473,0.23473848536435746,0.2292536736725911,0.22587677651285432,0.1429987145136871,-0.03045454384415782,0.011372784344080957,1.0,0.22771511765709304,0.23121060547246736,0.3239978017292729,0.391787488875473,0.22326785997304194,0.0023966243836839114,-0.3765952787908203,-0.10187386734099953,0.0567445026852293,0.12996573674974196,-0.010997793585960963],[0.2799275488141357,0.07968708441641345,0.41555189388029534,0.32325638572568993,-0.02257359179493713,0.257151635108247,0.27807020363725504,0.1762073070423951,0.2821064219717702,0.390874026919582,0.22384098246010256,0.0016411559946166148,0.1823021009579737,0.22771511765709304,1.0,0.5330938326943164,0.455387002938085,0.6296031609781648,0.5152168374742301,0.021796361714899307,0.059759559015904205,0.10537766784282362,0.12466580056491765,-0.05298129344459533,0.0030043096554697698],[0.28592576016085813,0.057821283952333255,0.41867507897021694,0.31845276786919535,-0.03295889236478104,0.25875149199377706,0.2793584789284229,0.18739833092624994,0.27450120196049993,0.4021105377661715,0.2117159917651302,0.003611803740207998,0.18647793492465614,0.23121060547246736,0.5330938326943164,1.0,0.848528132701025,0.6274288843898584,0.5201302080799727,0.01358721294722854,0.07345812955409804,0.12017625118896513,0.11741185447194481,-0.06521479201593214,0.0033407373801720964],[0.23808202251049634,0.05134860167161933,0.3886930471880007,0.2970105131241118,-0.03925202245769792,0.1933623762708481,0.27615727864219086,0.1956039869321696,0.2455593299256686,0.34920842835730853,0.16717183747865869,0.008044101139996427,0.15141059977380547,0.3239978017292729,0.455387002938085,0.848528132701025,1.0,0.5362701587810224,0.4404624326959223,0.003211840860486481,-0.15539985146573015,-0.14782304534443516,0.08869957616205919,-0.03304762664381184,0.0030388365412511386],[0.24758204136146014,0.02817296205386094,0.7635565582865724,0.5824843109569519,0.24739796321413685,0.4904339694400304,0.33830426422015364,0.29659419200056625,0.44178009435947285,0.4826920482732949,0.3521499677959873,0.1383961815718931,0.246300320378989,0.391787488875473,0.6296031609781648,0.6274288843898584,0.5362701587810224,1.0,0.6512355104762763,0.03348197065738964,0.1446850072317259,0.22017333857627167,0.096847936256475,-0.1318365506024472,-0.010775005774971147],[0.8260735088595919,0.250377505095488,0.375268866944825,0.28822016303316644,0.1131056106821277,0.4686150456581287,0.4321462454157313,0.4119220739575096,0.5095065890194278,0.5222550555367296,0.15844158804838462,0.06950017462069699,0.6101851906103242,0.22326785997304194,0.5152168374742301,0.5201302080799727,0.4404624326959223,0.6512355104762763,1.0,0.03955848360858376,0.0596840333399585,0.10290667819278879,0.3177767915135064,0.02253458355172734,0.001978442020758333],[0.05902139053980855,0.024755986361703192,0.020514979470143357,0.011101019449848324,0.006330907022809429,0.04549055896680244,0.03482313541614489,0.008189820605610626,0.016855219670190977,0.026037812441781234,0.003966320098347557,-0.018643863320122505,0.0281125918823345,0.0023966243836839114,0.021796361714899307,0.01358721294722854,0.003211840860486481,0.03348197065738964,0.03955848360858376,1.0,0.024168362856329274,0.028564756498994967,0.04014180042296445,0.014023410949907044,-0.0037970803603915746],[0.009927001802726609,-0.025141148952567624,0.11734631940860193,0.08435251594516936,0.009964904812449295,0.10312239778290225,-0.04375975820612238,-0.03800117043480554,0.035541401296886765,0.02849085348375697,0.1007228678363481,-0.011748735116449785,0.0030650527742328276,-0.3765952787908203,0.059759559015904205,0.07345812955409804,-0.15539985146573015,0.1446850072317259,0.0596840333399585,0.024168362856329274,1.0,0.6815071891169561,-0.0036657222158521566,-0.11899986236246113,-0.008183308942111818],[0.016298658156949704,-0.026575295320768896,0.1827417229067249,0.140178620767134,0.008576401079279355,0.14294817476276164,-0.06062459069356328,-0.038652704497194774,0.06657213514513448,0.05942849428693285,0.15652955931117243,-0.0007130981239915397,0.01053434953187814,-0.10187386734099953,0.10537766784282362,0.12017625118896513,-0.14782304534443516,0.22017333857627167,0.10290667819278879,0.028564756498994967,0.6815071891169561,1.0,0.01647865759741395,-0.16815208247472385,-0.012995460256670357],[0.38039381900560615,0.672867305408371,-0.000615165086389749,0.018792304064938342,0.017705663223971973,0.14205707936228643,0.11999886976431591,0.14310622750264326,0.14149801947228186,0.15378643563077887,-0.014876622287891028,0.010214779358864359,0.2642299648850069,0.0567445026852293,0.12466580056491765,0.11741185447194481,0.08869957616205919,0.096847936256475,0.3177767915135064,0.04014180042296445,-0.0036657222158521566,0.01647865759741395,1.0,0.3242051367512026,-0.0015770542935477903],[0.1082371883412683,0.2780031144707728,-0.15313732025889568,-0.11385271601268065,-0.010149453055253815,-0.03030679408185554,0.022094054847505082,0.04197724111887863,0.0017208746018444775,-0.019924607655260433,-0.10681411774139433,-0.007323974127528314,0.06896559841521877,0.12996573674974196,-0.05298129344459533,-0.06521479201593214,-0.03304762664381184,-0.1318365506024472,0.02253458355172734,0.014023410949907044,-0.11899986236246113,-0.16815208247472385,0.3242051367512026,1.0,0.01649316118259752],[0.007145749157662847,0.0014625219244101687,-0.01675488283456794,-0.012157039989893783,-0.008830176186680461,-0.021182987929678466,0.01675172919467064,0.009159150353591102,-0.004057794497051026,0.005999090850829633,-0.014488748939096132,0.005894173258189032,0.005062702526080926,-0.010997793585960963,0.0030043096554697698,0.0033407373801720964,0.0030388365412511386,-0.010775005774971147,0.001978442020758333,-0.0037970803603915746,-0.008183308942111818,-0.012995460256670357,-0.0015770542935477903,0.01649316118259752,1.0]],\"type\":\"heatmap\",\"xaxis\":\"x\",\"yaxis\":\"y\",\"hovertemplate\":\"x: %{x}<br>y: %{y}<br>Correlation: %{z}<extra></extra>\"}],                        {\"template\":{\"data\":{\"histogram2dcontour\":[{\"type\":\"histogram2dcontour\",\"colorbar\":{\"outlinewidth\":0,\"ticks\":\"\"},\"colorscale\":[[0.0,\"#0d0887\"],[0.1111111111111111,\"#46039f\"],[0.2222222222222222,\"#7201a8\"],[0.3333333333333333,\"#9c179e\"],[0.4444444444444444,\"#bd3786\"],[0.5555555555555556,\"#d8576b\"],[0.6666666666666666,\"#ed7953\"],[0.7777777777777778,\"#fb9f3a\"],[0.8888888888888888,\"#fdca26\"],[1.0,\"#f0f921\"]]}],\"choropleth\":[{\"type\":\"choropleth\",\"colorbar\":{\"outlinewidth\":0,\"ticks\":\"\"}}],\"histogram2d\":[{\"type\":\"histogram2d\",\"colorbar\":{\"outlinewidth\":0,\"ticks\":\"\"},\"colorscale\":[[0.0,\"#0d0887\"],[0.1111111111111111,\"#46039f\"],[0.2222222222222222,\"#7201a8\"],[0.3333333333333333,\"#9c179e\"],[0.4444444444444444,\"#bd3786\"],[0.5555555555555556,\"#d8576b\"],[0.6666666666666666,\"#ed7953\"],[0.7777777777777778,\"#fb9f3a\"],[0.8888888888888888,\"#fdca26\"],[1.0,\"#f0f921\"]]}],\"heatmap\":[{\"type\":\"heatmap\",\"colorbar\":{\"outlinewidth\":0,\"ticks\":\"\"},\"colorscale\":[[0.0,\"#0d0887\"],[0.1111111111111111,\"#46039f\"],[0.2222222222222222,\"#7201a8\"],[0.3333333333333333,\"#9c179e\"],[0.4444444444444444,\"#bd3786\"],[0.5555555555555556,\"#d8576b\"],[0.6666666666666666,\"#ed7953\"],[0.7777777777777778,\"#fb9f3a\"],[0.8888888888888888,\"#fdca26\"],[1.0,\"#f0f921\"]]}],\"heatmapgl\":[{\"type\":\"heatmapgl\",\"colorbar\":{\"outlinewidth\":0,\"ticks\":\"\"},\"colorscale\":[[0.0,\"#0d0887\"],[0.1111111111111111,\"#46039f\"],[0.2222222222222222,\"#7201a8\"],[0.3333333333333333,\"#9c179e\"],[0.4444444444444444,\"#bd3786\"],[0.5555555555555556,\"#d8576b\"],[0.6666666666666666,\"#ed7953\"],[0.7777777777777778,\"#fb9f3a\"],[0.8888888888888888,\"#fdca26\"],[1.0,\"#f0f921\"]]}],\"contourcarpet\":[{\"type\":\"contourcarpet\",\"colorbar\":{\"outlinewidth\":0,\"ticks\":\"\"}}],\"contour\":[{\"type\":\"contour\",\"colorbar\":{\"outlinewidth\":0,\"ticks\":\"\"},\"colorscale\":[[0.0,\"#0d0887\"],[0.1111111111111111,\"#46039f\"],[0.2222222222222222,\"#7201a8\"],[0.3333333333333333,\"#9c179e\"],[0.4444444444444444,\"#bd3786\"],[0.5555555555555556,\"#d8576b\"],[0.6666666666666666,\"#ed7953\"],[0.7777777777777778,\"#fb9f3a\"],[0.8888888888888888,\"#fdca26\"],[1.0,\"#f0f921\"]]}],\"surface\":[{\"type\":\"surface\",\"colorbar\":{\"outlinewidth\":0,\"ticks\":\"\"},\"colorscale\":[[0.0,\"#0d0887\"],[0.1111111111111111,\"#46039f\"],[0.2222222222222222,\"#7201a8\"],[0.3333333333333333,\"#9c179e\"],[0.4444444444444444,\"#bd3786\"],[0.5555555555555556,\"#d8576b\"],[0.6666666666666666,\"#ed7953\"],[0.7777777777777778,\"#fb9f3a\"],[0.8888888888888888,\"#fdca26\"],[1.0,\"#f0f921\"]]}],\"mesh3d\":[{\"type\":\"mesh3d\",\"colorbar\":{\"outlinewidth\":0,\"ticks\":\"\"}}],\"scatter\":[{\"fillpattern\":{\"fillmode\":\"overlay\",\"size\":10,\"solidity\":0.2},\"type\":\"scatter\"}],\"parcoords\":[{\"type\":\"parcoords\",\"line\":{\"colorbar\":{\"outlinewidth\":0,\"ticks\":\"\"}}}],\"scatterpolargl\":[{\"type\":\"scatterpolargl\",\"marker\":{\"colorbar\":{\"outlinewidth\":0,\"ticks\":\"\"}}}],\"bar\":[{\"error_x\":{\"color\":\"#2a3f5f\"},\"error_y\":{\"color\":\"#2a3f5f\"},\"marker\":{\"line\":{\"color\":\"#E5ECF6\",\"width\":0.5},\"pattern\":{\"fillmode\":\"overlay\",\"size\":10,\"solidity\":0.2}},\"type\":\"bar\"}],\"scattergeo\":[{\"type\":\"scattergeo\",\"marker\":{\"colorbar\":{\"outlinewidth\":0,\"ticks\":\"\"}}}],\"scatterpolar\":[{\"type\":\"scatterpolar\",\"marker\":{\"colorbar\":{\"outlinewidth\":0,\"ticks\":\"\"}}}],\"histogram\":[{\"marker\":{\"pattern\":{\"fillmode\":\"overlay\",\"size\":10,\"solidity\":0.2}},\"type\":\"histogram\"}],\"scattergl\":[{\"type\":\"scattergl\",\"marker\":{\"colorbar\":{\"outlinewidth\":0,\"ticks\":\"\"}}}],\"scatter3d\":[{\"type\":\"scatter3d\",\"line\":{\"colorbar\":{\"outlinewidth\":0,\"ticks\":\"\"}},\"marker\":{\"colorbar\":{\"outlinewidth\":0,\"ticks\":\"\"}}}],\"scattermapbox\":[{\"type\":\"scattermapbox\",\"marker\":{\"colorbar\":{\"outlinewidth\":0,\"ticks\":\"\"}}}],\"scatterternary\":[{\"type\":\"scatterternary\",\"marker\":{\"colorbar\":{\"outlinewidth\":0,\"ticks\":\"\"}}}],\"scattercarpet\":[{\"type\":\"scattercarpet\",\"marker\":{\"colorbar\":{\"outlinewidth\":0,\"ticks\":\"\"}}}],\"carpet\":[{\"aaxis\":{\"endlinecolor\":\"#2a3f5f\",\"gridcolor\":\"white\",\"linecolor\":\"white\",\"minorgridcolor\":\"white\",\"startlinecolor\":\"#2a3f5f\"},\"baxis\":{\"endlinecolor\":\"#2a3f5f\",\"gridcolor\":\"white\",\"linecolor\":\"white\",\"minorgridcolor\":\"white\",\"startlinecolor\":\"#2a3f5f\"},\"type\":\"carpet\"}],\"table\":[{\"cells\":{\"fill\":{\"color\":\"#EBF0F8\"},\"line\":{\"color\":\"white\"}},\"header\":{\"fill\":{\"color\":\"#C8D4E3\"},\"line\":{\"color\":\"white\"}},\"type\":\"table\"}],\"barpolar\":[{\"marker\":{\"line\":{\"color\":\"#E5ECF6\",\"width\":0.5},\"pattern\":{\"fillmode\":\"overlay\",\"size\":10,\"solidity\":0.2}},\"type\":\"barpolar\"}],\"pie\":[{\"automargin\":true,\"type\":\"pie\"}]},\"layout\":{\"autotypenumbers\":\"strict\",\"colorway\":[\"#636efa\",\"#EF553B\",\"#00cc96\",\"#ab63fa\",\"#FFA15A\",\"#19d3f3\",\"#FF6692\",\"#B6E880\",\"#FF97FF\",\"#FECB52\"],\"font\":{\"color\":\"#2a3f5f\"},\"hovermode\":\"closest\",\"hoverlabel\":{\"align\":\"left\"},\"paper_bgcolor\":\"white\",\"plot_bgcolor\":\"#E5ECF6\",\"polar\":{\"bgcolor\":\"#E5ECF6\",\"angularaxis\":{\"gridcolor\":\"white\",\"linecolor\":\"white\",\"ticks\":\"\"},\"radialaxis\":{\"gridcolor\":\"white\",\"linecolor\":\"white\",\"ticks\":\"\"}},\"ternary\":{\"bgcolor\":\"#E5ECF6\",\"aaxis\":{\"gridcolor\":\"white\",\"linecolor\":\"white\",\"ticks\":\"\"},\"baxis\":{\"gridcolor\":\"white\",\"linecolor\":\"white\",\"ticks\":\"\"},\"caxis\":{\"gridcolor\":\"white\",\"linecolor\":\"white\",\"ticks\":\"\"}},\"coloraxis\":{\"colorbar\":{\"outlinewidth\":0,\"ticks\":\"\"}},\"colorscale\":{\"sequential\":[[0.0,\"#0d0887\"],[0.1111111111111111,\"#46039f\"],[0.2222222222222222,\"#7201a8\"],[0.3333333333333333,\"#9c179e\"],[0.4444444444444444,\"#bd3786\"],[0.5555555555555556,\"#d8576b\"],[0.6666666666666666,\"#ed7953\"],[0.7777777777777778,\"#fb9f3a\"],[0.8888888888888888,\"#fdca26\"],[1.0,\"#f0f921\"]],\"sequentialminus\":[[0.0,\"#0d0887\"],[0.1111111111111111,\"#46039f\"],[0.2222222222222222,\"#7201a8\"],[0.3333333333333333,\"#9c179e\"],[0.4444444444444444,\"#bd3786\"],[0.5555555555555556,\"#d8576b\"],[0.6666666666666666,\"#ed7953\"],[0.7777777777777778,\"#fb9f3a\"],[0.8888888888888888,\"#fdca26\"],[1.0,\"#f0f921\"]],\"diverging\":[[0,\"#8e0152\"],[0.1,\"#c51b7d\"],[0.2,\"#de77ae\"],[0.3,\"#f1b6da\"],[0.4,\"#fde0ef\"],[0.5,\"#f7f7f7\"],[0.6,\"#e6f5d0\"],[0.7,\"#b8e186\"],[0.8,\"#7fbc41\"],[0.9,\"#4d9221\"],[1,\"#276419\"]]},\"xaxis\":{\"gridcolor\":\"white\",\"linecolor\":\"white\",\"ticks\":\"\",\"title\":{\"standoff\":15},\"zerolinecolor\":\"white\",\"automargin\":true,\"zerolinewidth\":2},\"yaxis\":{\"gridcolor\":\"white\",\"linecolor\":\"white\",\"ticks\":\"\",\"title\":{\"standoff\":15},\"zerolinecolor\":\"white\",\"automargin\":true,\"zerolinewidth\":2},\"scene\":{\"xaxis\":{\"backgroundcolor\":\"#E5ECF6\",\"gridcolor\":\"white\",\"linecolor\":\"white\",\"showbackground\":true,\"ticks\":\"\",\"zerolinecolor\":\"white\",\"gridwidth\":2},\"yaxis\":{\"backgroundcolor\":\"#E5ECF6\",\"gridcolor\":\"white\",\"linecolor\":\"white\",\"showbackground\":true,\"ticks\":\"\",\"zerolinecolor\":\"white\",\"gridwidth\":2},\"zaxis\":{\"backgroundcolor\":\"#E5ECF6\",\"gridcolor\":\"white\",\"linecolor\":\"white\",\"showbackground\":true,\"ticks\":\"\",\"zerolinecolor\":\"white\",\"gridwidth\":2}},\"shapedefaults\":{\"line\":{\"color\":\"#2a3f5f\"}},\"annotationdefaults\":{\"arrowcolor\":\"#2a3f5f\",\"arrowhead\":0,\"arrowwidth\":1},\"geo\":{\"bgcolor\":\"white\",\"landcolor\":\"#E5ECF6\",\"subunitcolor\":\"white\",\"showland\":true,\"showlakes\":true,\"lakecolor\":\"white\"},\"title\":{\"x\":0.05},\"mapbox\":{\"style\":\"light\"}}},\"xaxis\":{\"anchor\":\"y\",\"domain\":[0.0,1.0],\"scaleanchor\":\"y\",\"constrain\":\"domain\",\"title\":{\"text\":\"Features\"}},\"yaxis\":{\"anchor\":\"x\",\"domain\":[0.0,1.0],\"autorange\":\"reversed\",\"constrain\":\"domain\",\"title\":{\"text\":\"Features\"}},\"coloraxis\":{\"colorbar\":{\"title\":{\"text\":\"Correlation\"}},\"colorscale\":[[0.0,\"rgb(5,48,97)\"],[0.1,\"rgb(33,102,172)\"],[0.2,\"rgb(67,147,195)\"],[0.3,\"rgb(146,197,222)\"],[0.4,\"rgb(209,229,240)\"],[0.5,\"rgb(247,247,247)\"],[0.6,\"rgb(253,219,199)\"],[0.7,\"rgb(244,165,130)\"],[0.8,\"rgb(214,96,77)\"],[0.9,\"rgb(178,24,43)\"],[1.0,\"rgb(103,0,31)\"]],\"cmin\":-1,\"cmax\":1},\"margin\":{\"t\":60},\"title\":{\"text\":\"Correlation Heatmap\"}},                        {\"responsive\": true}                    ).then(function(){\n",
       "                            \n",
       "var gd = document.getElementById('f989287d-1995-4ae2-bd23-ea0d78ce16d3');\n",
       "var x = new MutationObserver(function (mutations, observer) {{\n",
       "        var display = window.getComputedStyle(gd).display;\n",
       "        if (!display || display === 'none') {{\n",
       "            console.log([gd, 'removed!']);\n",
       "            Plotly.purge(gd);\n",
       "            observer.disconnect();\n",
       "        }}\n",
       "}});\n",
       "\n",
       "// Listen for the removal of the full notebook cells\n",
       "var notebookContainer = gd.closest('#notebook-container');\n",
       "if (notebookContainer) {{\n",
       "    x.observe(notebookContainer, {childList: true});\n",
       "}}\n",
       "\n",
       "// Listen for the clearing of the current output cell\n",
       "var outputEl = gd.closest('.output');\n",
       "if (outputEl) {{\n",
       "    x.observe(outputEl, {childList: true});\n",
       "}}\n",
       "\n",
       "                        })                };                });            </script>        </div>"
      ]
     },
     "metadata": {},
     "output_type": "display_data"
    }
   ],
   "source": [
    "# # Filter out non-numerical columns\n",
    "# df_numerical = df.select_dtypes(include=['number'])\n",
    "\n",
    "# # Calculate the correlation matrix\n",
    "# corr_matrix = df_numerical.corr()\n",
    "\n",
    "# # Convert the correlation matrix to a long-form DataFrame\n",
    "# corr_long = corr_matrix.stack().reset_index()\n",
    "# corr_long.columns = ['Feature1', 'Feature2', 'Correlation']\n",
    "\n",
    "# # Sort the correlations by absolute value in descending order\n",
    "# corr_long = corr_long.sort_values(by='Correlation', key=abs, ascending=False)\n",
    "\n",
    "# # Drop duplicate pairs\n",
    "# corr_long = corr_long[corr_long['Feature1'] != corr_long['Feature2']]\n",
    "\n",
    "# # Get unique features in sorted order of correlation\n",
    "# features_sorted = pd.unique(corr_long[['Feature1', 'Feature2']].values.ravel('K'))\n",
    "\n",
    "# # Reorder the correlation matrix based on sorted features\n",
    "# corr_matrix_sorted = corr_matrix.loc[features_sorted, features_sorted]\n",
    "\n",
    "# # Create a heatmap using Plotly\n",
    "# fig = px.imshow(corr_matrix_sorted,\n",
    "#                 labels=dict(color=\"Correlation\"),\n",
    "#                 x=corr_matrix_sorted.columns,\n",
    "#                 y=corr_matrix_sorted.columns,\n",
    "#                 color_continuous_scale='RdBu_r',\n",
    "#                 zmin=-1,\n",
    "#                 zmax=1)\n",
    "\n",
    "# # Update the layout for better readability\n",
    "# fig.update_layout(title=\"Correlation Heatmap (Ranked by Correlation Strength)\",\n",
    "#                   xaxis_title=\"Features\",\n",
    "#                   yaxis_title=\"Features\")\n",
    "\n",
    "# # Show the plot\n",
    "# fig.show()\n",
    "\n",
    "# Filter out non-numerical columns\n",
    "df_numerical = df.select_dtypes(include=['number'])\n",
    "\n",
    "# Calculate the correlation matrix\n",
    "corr_matrix = df_numerical.corr()\n",
    "\n",
    "# Create a correlation heatmap using Plotly\n",
    "fig = px.imshow(corr_matrix, \n",
    "                labels=dict(color=\"Correlation\"),\n",
    "                x=corr_matrix.columns,\n",
    "                y=corr_matrix.columns,\n",
    "                color_continuous_scale='RdBu_r', \n",
    "                zmin=-1, \n",
    "                zmax=1)\n",
    "\n",
    "# Update the layout for better readability\n",
    "fig.update_layout(title=\"Correlation Heatmap\",\n",
    "                  xaxis_title=\"Features\",\n",
    "                  yaxis_title=\"Features\")\n",
    "\n",
    "# Show the plot\n",
    "fig.show()"
   ]
  },
  {
   "cell_type": "code",
   "execution_count": null,
   "id": "0e6a8a01",
   "metadata": {},
   "outputs": [],
   "source": []
  }
 ],
 "metadata": {
  "kernelspec": {
   "display_name": "Python 3 (ipykernel)",
   "language": "python",
   "name": "python3"
  },
  "language_info": {
   "codemirror_mode": {
    "name": "ipython",
    "version": 3
   },
   "file_extension": ".py",
   "mimetype": "text/x-python",
   "name": "python",
   "nbconvert_exporter": "python",
   "pygments_lexer": "ipython3",
   "version": "3.11.7"
  }
 },
 "nbformat": 4,
 "nbformat_minor": 5
}
